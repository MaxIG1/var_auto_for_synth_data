{
 "cells": [
  {
   "cell_type": "code",
   "execution_count": 255,
   "metadata": {},
   "outputs": [],
   "source": [
    "import numpy as np\n",
    "from tensorflow import keras\n",
    "from keras.layers import Input, Dense, Lambda, BatchNormalization\n",
    "import tensorflow as tf\n",
    "import pandas as pd\n",
    "import matplotlib.pyplot as plt\n",
    "from keras import backend as K\n",
    "from sklearn.model_selection import train_test_split\n",
    "import pandas as pd\n",
    "import matplotlib.pyplot as plt\n",
    "from sklearn import datasets\n",
    "from tensorflow.keras.callbacks import TensorBoard, ModelCheckpoint, EarlyStopping\n",
    "from tensorflow.keras.models import load_model\n",
    "from tensorflow.keras.models import save_model\n",
    "from scipy.special import rel_entr\n"
   ]
  },
  {
   "cell_type": "code",
   "execution_count": 256,
   "metadata": {},
   "outputs": [],
   "source": [
    "train_data = pd.read_csv(\"../data/interim/split/sorted_train_data_mm.csv\")\n",
    "test_data = pd.read_csv(\"../data/interim/split/sorted_test_data_mm.csv\")\n",
    "val_data = pd.read_csv(\"../data/interim/split/sorted_val_data_mm.csv\")"
   ]
  },
  {
   "cell_type": "code",
   "execution_count": 257,
   "metadata": {},
   "outputs": [],
   "source": [
    "train_data_array = train_data.values\n",
    "test_data_array = test_data.values\n",
    "val_data_array = val_data.values"
   ]
  },
  {
   "cell_type": "code",
   "execution_count": 258,
   "metadata": {},
   "outputs": [],
   "source": [
    "class Sampling(keras.layers.Layer):\n",
    "    def call(self, inputs):\n",
    "        z_mean, z_log_var = inputs\n",
    "        batch = tf.shape(z_mean)[0]\n",
    "        dim = tf.shape(z_mean)[1]\n",
    "        # epsilon = gumbel_sample((batch, dim))\n",
    "        epsilon = tf.keras.backend.random_normal(shape=(batch, dim))\n",
    "        return z_mean + tf.exp(0.5 * z_log_var) * epsilon"
   ]
  },
  {
   "cell_type": "code",
   "execution_count": 259,
   "metadata": {},
   "outputs": [
    {
     "name": "stdout",
     "output_type": "stream",
     "text": [
      "Model: \"encoder\"\n",
      "__________________________________________________________________________________________________\n",
      " Layer (type)                   Output Shape         Param #     Connected to                     \n",
      "==================================================================================================\n",
      " input_layer (InputLayer)       [(None, 31)]         0           []                               \n",
      "                                                                                                  \n",
      " h1 (Dense)                     (None, 256)          8192        ['input_layer[0][0]']            \n",
      "                                                                                                  \n",
      " batch1 (BatchNormalization)    (None, 256)          1024        ['h1[0][0]']                     \n",
      "                                                                                                  \n",
      " h2 (Dense)                     (None, 256)          65792       ['batch1[0][0]']                 \n",
      "                                                                                                  \n",
      " select_z_mean (Lambda)         (None, 128)          0           ['h2[0][0]']                     \n",
      "                                                                                                  \n",
      " select_z_var (Lambda)          (None, 128)          0           ['h2[0][0]']                     \n",
      "                                                                                                  \n",
      " z_mean (Dense)                 (None, 16)           2064        ['select_z_mean[0][0]']          \n",
      "                                                                                                  \n",
      " z_log_var (Dense)              (None, 16)           2064        ['select_z_var[0][0]']           \n",
      "                                                                                                  \n",
      " Sampling (Sampling)            (None, 16)           0           ['z_mean[0][0]',                 \n",
      "                                                                  'z_log_var[0][0]']              \n",
      "                                                                                                  \n",
      "==================================================================================================\n",
      "Total params: 79,136\n",
      "Trainable params: 78,624\n",
      "Non-trainable params: 512\n",
      "__________________________________________________________________________________________________\n"
     ]
    }
   ],
   "source": [
    "latent_dim = 16\n",
    "encoder_inputs = Input(shape=(31), name=\"input_layer\")\n",
    "\n",
    "n_x1 = 256\n",
    "x = Dense(n_x1, activation=\"relu\", name=\"h1\")(encoder_inputs)\n",
    "x = BatchNormalization(name=\"batch1\")(x)\n",
    "x = Dense(n_x1, activation=\"relu\", name=\"h2\")(x)\n",
    "\n",
    "# Split x3 into two halves\n",
    "half_size = n_x1 // 2\n",
    "x1_first_half = Lambda(lambda x: x[:, :half_size], name=\"select_z_mean\")(x)\n",
    "x1_second_half = Lambda(lambda x: x[:, half_size:], name=\"select_z_var\")(x)\n",
    "\n",
    "z_mean = Dense(latent_dim, name=\"z_mean\")(x1_first_half)\n",
    "z_log_var = Dense(latent_dim, name=\"z_log_var\")(x1_second_half)\n",
    "z = Sampling(name=\"Sampling\")([z_mean, z_log_var])\n",
    "\n",
    "encoder = keras.Model(encoder_inputs, [z_mean, z_log_var, z], name=\"encoder\")\n",
    "encoder.summary()"
   ]
  },
  {
   "cell_type": "code",
   "execution_count": 260,
   "metadata": {},
   "outputs": [
    {
     "data": {
      "image/png": "[encoded data removed]",
      "text/plain": [
       "<IPython.core.display.Image object>"
      ]
     },
     "execution_count": 260,
     "metadata": {},
     "output_type": "execute_result"
    }
   ],
   "source": [
    "keras.utils.plot_model(encoder, show_shapes=True)"
   ]
  },
  {
   "cell_type": "code",
   "execution_count": 261,
   "metadata": {},
   "outputs": [
    {
     "name": "stdout",
     "output_type": "stream",
     "text": [
      "Model: \"decoder\"\n",
      "__________________________________________________________________________________________________\n",
      " Layer (type)                   Output Shape         Param #     Connected to                     \n",
      "==================================================================================================\n",
      " input_24 (InputLayer)          [(None, 16)]         0           []                               \n",
      "                                                                                                  \n",
      " h4 (Dense)                     (None, 256)          4352        ['input_24[0][0]']               \n",
      "                                                                                                  \n",
      " batch1 (BatchNormalization)    (None, 256)          1024        ['h4[0][0]']                     \n",
      "                                                                                                  \n",
      " h5 (Dense)                     (None, 256)          65792       ['batch1[0][0]']                 \n",
      "                                                                                                  \n",
      " cont_decoder_output (Dense)    (None, 30)           7710        ['h5[0][0]']                     \n",
      "                                                                                                  \n",
      " classification_output (Dense)  (None, 1)            257         ['h5[0][0]']                     \n",
      "                                                                                                  \n",
      "==================================================================================================\n",
      "Total params: 79,135\n",
      "Trainable params: 78,623\n",
      "Non-trainable params: 512\n",
      "__________________________________________________________________________________________________\n"
     ]
    }
   ],
   "source": [
    "# Decoder\n",
    "latent_inputs = keras.Input(shape=(latent_dim,))\n",
    "n_x4 = 256\n",
    "x = Dense(n_x4, activation=\"relu\", name=\"h4\")(latent_inputs)\n",
    "x = BatchNormalization(name=\"batch1\")(x)\n",
    "x = Dense(n_x4, activation=\"relu\", name=\"h5\")(x)\n",
    "cont_decoder_outputs = Dense(30, activation = 'linear', name=\"cont_decoder_output\")(x)\n",
    "class_decoder_output = Dense(1, activation=\"sigmoid\", name=\"classification_output\")(x)\n",
    "decoder = keras.Model(latent_inputs, [cont_decoder_outputs, class_decoder_output], name=\"decoder\")\n",
    "decoder.summary()"
   ]
  },
  {
   "cell_type": "code",
   "execution_count": 262,
   "metadata": {},
   "outputs": [],
   "source": [
    "class VAE(keras.Model):\n",
    "    def __init__(self, encoder, decoder, **kwargs):\n",
    "        super().__init__(**kwargs)\n",
    "        self.encoder = encoder\n",
    "        self.decoder = decoder\n",
    "        self.total_loss_tracker = keras.metrics.Mean(name=\"total_loss\")\n",
    "        self.reconstruction_loss_tracker = keras.metrics.Mean(\n",
    "            name=\"reconstruction_loss\"\n",
    "        )\n",
    "        self.kl_loss_tracker = keras.metrics.Mean(name=\"kl_loss\")\n",
    "        self.reconstruction_loss_class_tracker = keras.metrics.Mean(\n",
    "            name=\"reconstruction_loss_class\"\n",
    "        )\n",
    "        self.mean_abs_diff_cont_tracker = keras.metrics.Mean(name='mean_abs_diff_cont')\n",
    "        self.mean_abs_diff_class_tracker = keras.metrics.Mean(name='mean_abs_diff_class')\n",
    "        self.mean_binary_tracker = keras.metrics.Mean(name=\"mean_binary_value\")\n",
    "        self.kl_div_tracker = keras.metrics.Mean(name='kl_divergence')\n",
    "\n",
    "    @property\n",
    "    def metrics(self):\n",
    "        return [\n",
    "            self.total_loss_tracker,\n",
    "            self.reconstruction_loss_tracker,\n",
    "            self.kl_loss_tracker,\n",
    "            self.reconstruction_loss_class_tracker,\n",
    "\n",
    "        ]\n",
    "\n",
    "    def train_step(self, data):\n",
    "        with tf.GradientTape() as tape:\n",
    "            z_mean, z_log_var, z = self.encoder(data)\n",
    "\n",
    "            reconstruction_cont, reconstruction_class = self.decoder(z)\n",
    "            # latent_vectors = np.random.normal(scale=1, size=(32, latent_dim))\n",
    "            # reconstruction_cont, reconstruction_class = self.decoder(latent_vectors)\n",
    "            \n",
    "            data_cont = data[:, :30]  \n",
    "            data_class = data[:, 30:]  # Assuming the last column is for classification\n",
    "\n",
    "        \n",
    "            # Reconstruction loss for continuous outputs\n",
    "            reconstruction_loss_cont = keras.losses.mean_squared_error(\n",
    "                data_cont, reconstruction_cont\n",
    "            )\n",
    "\n",
    "            # Reconstruction loss for classification output\n",
    "            reconstruction_loss_class = keras.losses.binary_crossentropy(\n",
    "                data_class, reconstruction_class\n",
    "            )\n",
    "\n",
    "            kl_loss = -0.5 * (1 + z_log_var - tf.square(z_mean) - tf.exp(z_log_var))\n",
    "            kl_loss = tf.reduce_mean(kl_loss, axis=1)\n",
    "\n",
    "            # Compute the KL Div between original data and reconstructed\n",
    "            kl_div = tf.keras.losses.KLDivergence()(data_cont, reconstruction_cont)\n",
    "\n",
    "            # Combine losses\n",
    "            total_loss = (\n",
    "                reconstruction_loss_cont + reconstruction_loss_class + 0.0001*kl_loss\n",
    "            )\n",
    "\n",
    "        grads = tape.gradient(total_loss, self.trainable_weights)\n",
    "        self.optimizer.apply_gradients(zip(grads, self.trainable_weights))\n",
    "        self.total_loss_tracker.update_state(total_loss)\n",
    "        self.reconstruction_loss_tracker.update_state(reconstruction_loss_cont)\n",
    "        self.kl_loss_tracker.update_state(kl_loss)\n",
    "        self.reconstruction_loss_class_tracker.update_state(reconstruction_loss_class)\n",
    "        self.kl_div_tracker.update_state(kl_div)\n",
    "\n",
    "        return {\n",
    "            \"loss\": self.total_loss_tracker.result(),\n",
    "            \"reconstruction_loss_cont\": self.reconstruction_loss_tracker.result(),\n",
    "            \"reconstruction_loss_class\": self.reconstruction_loss_class_tracker.result(),\n",
    "            \"kl_loss\": self.kl_loss_tracker.result(),\n",
    "            \"sparse_categorical_crossentropy\": self.reconstruction_loss_class_tracker.result(),\n",
    "            \"kl_div\": self.kl_div_tracker.result(),\n",
    "        }\n",
    "\n",
    "    def test_step(self, data):\n",
    "        \"\"\"Step run during validation.\"\"\"\n",
    "        if isinstance(data, tuple):\n",
    "            data = data[0]  # Unpack the tuple and take the input data\n",
    "\n",
    "\n",
    "\n",
    "        data_cont = data[:, :30]  # Assuming the first 4 columns are for continuous variables\n",
    "        data_class = data[:, 30:]  # Assuming the last column is for classification\n",
    "\n",
    "        z_mean, z_log_var, z = self.encoder(data)\n",
    "        # len_data = data.shape[0]\n",
    "\n",
    "        latent_vectors = np.random.normal(scale=1, size=(32, latent_dim))\n",
    "        reconstruction_cont, reconstruction_class = self.decoder(latent_vectors)\n",
    "\n",
    "        reconstruction_loss_cont = keras.losses.mean_squared_error(\n",
    "            data_cont, reconstruction_cont\n",
    "        )\n",
    "\n",
    "        # Reconstruction loss for classification output\n",
    "        reconstruction_loss_class = keras.losses.binary_crossentropy(\n",
    "            data_class, reconstruction_class\n",
    "        )\n",
    "\n",
    "        kl_loss = -0.5 * (\n",
    "            1 + z_log_var - tf.square(z_mean) - tf.exp(z_log_var)\n",
    "        )\n",
    "        kl_loss = tf.reduce_mean(kl_loss, axis=1)\n",
    "\n",
    "        # Combine losses\n",
    "        total_loss = (\n",
    "                reconstruction_loss_cont + reconstruction_loss_class + 0.0001*kl_loss\n",
    "            )\n",
    "\n",
    "        # Compute mean absolute differences and mean of binary data\n",
    "        mean_abs_diff_cont = tf.reduce_mean(tf.abs(data_cont - reconstruction_cont))\n",
    "        mean_abs_diff_class = tf.reduce_mean(tf.abs(data_class - reconstruction_class))\n",
    "        mean_binary_value = tf.reduce_mean(tf.cast(reconstruction_class >= 0.5, tf.float32))\n",
    "\n",
    "        # Compute the KL Div between original data and reconstructed\n",
    "        kl_div = tf.keras.losses.KLDivergence()(data_cont, reconstruction_cont)\n",
    "\n",
    "        # Update the loss tracker\n",
    "        self.total_loss_tracker.update_state(total_loss)\n",
    "\n",
    "        # Update other metrics\n",
    "        self.reconstruction_loss_tracker.update_state(reconstruction_loss_cont)\n",
    "        self.kl_loss_tracker.update_state(kl_loss)\n",
    "        self.reconstruction_loss_class_tracker.update_state(reconstruction_loss_class)\n",
    "        self.mean_abs_diff_cont_tracker.update_state(mean_abs_diff_cont)\n",
    "        self.mean_abs_diff_class_tracker.update_state(mean_abs_diff_class)\n",
    "        self.mean_binary_tracker.update_state(mean_binary_value)\n",
    "        self.kl_div_tracker.update_state(kl_div)\n",
    "\n",
    "        # Return a dict mapping metric names to current value\n",
    "        return {\n",
    "            \"loss\": self.total_loss_tracker.result(),\n",
    "            \"reconstruction_loss_cont\": self.reconstruction_loss_tracker.result(),\n",
    "            \"reconstruction_loss_class\": self.reconstruction_loss_class_tracker.result(),\n",
    "            \"kl_loss\": self.kl_loss_tracker.result(),\n",
    "            \"mean_abs_diff_cont\": self.mean_abs_diff_cont_tracker.result(),\n",
    "            \"mean_abs_diff_class\": self.mean_abs_diff_class_tracker.result(),\n",
    "            \"mean_binary_value\": self.mean_binary_tracker.result(),\n",
    "            \"kl_div\": self.kl_div_tracker.result(),\n",
    "        }"
   ]
  },
  {
   "cell_type": "code",
   "execution_count": 263,
   "metadata": {},
   "outputs": [],
   "source": [
    "vae = VAE(encoder, decoder)\n",
    "vae.compile(optimizer=keras.optimizers.Adam())"
   ]
  },
  {
   "cell_type": "code",
   "execution_count": 264,
   "metadata": {},
   "outputs": [
    {
     "name": "stdout",
     "output_type": "stream",
     "text": [
      "Epoch 1/5\n"
     ]
    },
    {
     "name": "stdout",
     "output_type": "stream",
     "text": [
      "1767/1781 [============================>.] - ETA: 0s - loss: 0.0396 - reconstruction_loss_cont: 0.0145 - reconstruction_loss_class: 0.0145 - kl_loss: 7.1287e-05 - sparse_categorical_crossentropy: 0.0251 - kl_div: 2.4720"
     ]
    },
    {
     "ename": "InvalidArgumentError",
     "evalue": "Graph execution error:\n\nDetected at node 'logistic_loss/mul' defined at (most recent call last):\n    File \"c:\\Users\\Max_G\\anaconda3\\envs\\var_auto\\lib\\runpy.py\", line 196, in _run_module_as_main\n      return _run_code(code, main_globals, None,\n    File \"c:\\Users\\Max_G\\anaconda3\\envs\\var_auto\\lib\\runpy.py\", line 86, in _run_code\n      exec(code, run_globals)\n    File \"c:\\Users\\Max_G\\anaconda3\\envs\\var_auto\\lib\\site-packages\\ipykernel_launcher.py\", line 18, in <module>\n      app.launch_new_instance()\n    File \"c:\\Users\\Max_G\\anaconda3\\envs\\var_auto\\lib\\site-packages\\traitlets\\config\\application.py\", line 1075, in launch_instance\n      app.start()\n    File \"c:\\Users\\Max_G\\anaconda3\\envs\\var_auto\\lib\\site-packages\\ipykernel\\kernelapp.py\", line 739, in start\n      self.io_loop.start()\n    File \"c:\\Users\\Max_G\\anaconda3\\envs\\var_auto\\lib\\site-packages\\tornado\\platform\\asyncio.py\", line 195, in start\n      self.asyncio_loop.run_forever()\n    File \"c:\\Users\\Max_G\\anaconda3\\envs\\var_auto\\lib\\asyncio\\base_events.py\", line 603, in run_forever\n      self._run_once()\n    File \"c:\\Users\\Max_G\\anaconda3\\envs\\var_auto\\lib\\asyncio\\base_events.py\", line 1909, in _run_once\n      handle._run()\n    File \"c:\\Users\\Max_G\\anaconda3\\envs\\var_auto\\lib\\asyncio\\events.py\", line 80, in _run\n      self._context.run(self._callback, *self._args)\n    File \"c:\\Users\\Max_G\\anaconda3\\envs\\var_auto\\lib\\site-packages\\ipykernel\\kernelbase.py\", line 542, in dispatch_queue\n      await self.process_one()\n    File \"c:\\Users\\Max_G\\anaconda3\\envs\\var_auto\\lib\\site-packages\\ipykernel\\kernelbase.py\", line 531, in process_one\n      await dispatch(*args)\n    File \"c:\\Users\\Max_G\\anaconda3\\envs\\var_auto\\lib\\site-packages\\ipykernel\\kernelbase.py\", line 437, in dispatch_shell\n      await result\n    File \"c:\\Users\\Max_G\\anaconda3\\envs\\var_auto\\lib\\site-packages\\ipykernel\\ipkernel.py\", line 359, in execute_request\n      await super().execute_request(stream, ident, parent)\n    File \"c:\\Users\\Max_G\\anaconda3\\envs\\var_auto\\lib\\site-packages\\ipykernel\\kernelbase.py\", line 775, in execute_request\n      reply_content = await reply_content\n    File \"c:\\Users\\Max_G\\anaconda3\\envs\\var_auto\\lib\\site-packages\\ipykernel\\ipkernel.py\", line 446, in do_execute\n      res = shell.run_cell(\n    File \"c:\\Users\\Max_G\\anaconda3\\envs\\var_auto\\lib\\site-packages\\ipykernel\\zmqshell.py\", line 549, in run_cell\n      return super().run_cell(*args, **kwargs)\n    File \"c:\\Users\\Max_G\\anaconda3\\envs\\var_auto\\lib\\site-packages\\IPython\\core\\interactiveshell.py\", line 3051, in run_cell\n      result = self._run_cell(\n    File \"c:\\Users\\Max_G\\anaconda3\\envs\\var_auto\\lib\\site-packages\\IPython\\core\\interactiveshell.py\", line 3106, in _run_cell\n      result = runner(coro)\n    File \"c:\\Users\\Max_G\\anaconda3\\envs\\var_auto\\lib\\site-packages\\IPython\\core\\async_helpers.py\", line 129, in _pseudo_sync_runner\n      coro.send(None)\n    File \"c:\\Users\\Max_G\\anaconda3\\envs\\var_auto\\lib\\site-packages\\IPython\\core\\interactiveshell.py\", line 3311, in run_cell_async\n      has_raised = await self.run_ast_nodes(code_ast.body, cell_name,\n    File \"c:\\Users\\Max_G\\anaconda3\\envs\\var_auto\\lib\\site-packages\\IPython\\core\\interactiveshell.py\", line 3493, in run_ast_nodes\n      if await self.run_code(code, result, async_=asy):\n    File \"c:\\Users\\Max_G\\anaconda3\\envs\\var_auto\\lib\\site-packages\\IPython\\core\\interactiveshell.py\", line 3553, in run_code\n      exec(code_obj, self.user_global_ns, self.user_ns)\n    File \"C:\\Users\\Max_G\\AppData\\Local\\Temp\\ipykernel_6524\\665671275.py\", line 20, in <module>\n      hist = vae.fit(\n    File \"c:\\Users\\Max_G\\anaconda3\\envs\\var_auto\\lib\\site-packages\\keras\\utils\\traceback_utils.py\", line 65, in error_handler\n      return fn(*args, **kwargs)\n    File \"c:\\Users\\Max_G\\anaconda3\\envs\\var_auto\\lib\\site-packages\\keras\\engine\\training.py\", line 1564, in fit\n      tmp_logs = self.train_function(iterator)\n    File \"c:\\Users\\Max_G\\anaconda3\\envs\\var_auto\\lib\\site-packages\\keras\\engine\\training.py\", line 1160, in train_function\n      return step_function(self, iterator)\n    File \"c:\\Users\\Max_G\\anaconda3\\envs\\var_auto\\lib\\site-packages\\keras\\engine\\training.py\", line 1146, in step_function\n      outputs = model.distribute_strategy.run(run_step, args=(data,))\n    File \"c:\\Users\\Max_G\\anaconda3\\envs\\var_auto\\lib\\site-packages\\keras\\engine\\training.py\", line 1135, in run_step\n      outputs = model.train_step(data)\n    File \"C:\\Users\\Max_G\\AppData\\Local\\Temp\\ipykernel_6524\\1517216703.py\", line 47, in train_step\n      reconstruction_loss_class = keras.losses.binary_crossentropy(\n    File \"c:\\Users\\Max_G\\anaconda3\\envs\\var_auto\\lib\\site-packages\\keras\\losses.py\", line 2162, in binary_crossentropy\n      backend.binary_crossentropy(y_true, y_pred, from_logits=from_logits),\n    File \"c:\\Users\\Max_G\\anaconda3\\envs\\var_auto\\lib\\site-packages\\keras\\backend.py\", line 5677, in binary_crossentropy\n      return tf.nn.sigmoid_cross_entropy_with_logits(\nNode: 'logistic_loss/mul'\nIncompatible shapes: [32,1] vs. [2,1]\n\t [[{{node logistic_loss/mul}}]] [Op:__inference_train_function_921174]",
     "output_type": "error",
     "traceback": [
      "\u001b[1;31m---------------------------------------------------------------------------\u001b[0m",
      "\u001b[1;31mInvalidArgumentError\u001b[0m                      Traceback (most recent call last)",
      "Cell \u001b[1;32mIn[264], line 20\u001b[0m\n\u001b[0;32m     13\u001b[0m \u001b[38;5;66;03m# # Define a ModelCheckpoint callback to save the model\u001b[39;00m\n\u001b[0;32m     14\u001b[0m \u001b[38;5;66;03m# checkpoint_callback = ModelCheckpoint(\u001b[39;00m\n\u001b[0;32m     15\u001b[0m \u001b[38;5;66;03m#     filepath=model_dir, save_best_only=True, monitor=\"val_loss\", mode=\"min\"\u001b[39;00m\n\u001b[0;32m     16\u001b[0m \u001b[38;5;66;03m# )\u001b[39;00m\n\u001b[0;32m     17\u001b[0m \u001b[38;5;66;03m#tensorboard_callback\u001b[39;00m\n\u001b[0;32m     18\u001b[0m call_back_list \u001b[38;5;241m=\u001b[39m [early_stopping_callback]\n\u001b[1;32m---> 20\u001b[0m hist \u001b[38;5;241m=\u001b[39m \u001b[43mvae\u001b[49m\u001b[38;5;241;43m.\u001b[39;49m\u001b[43mfit\u001b[49m\u001b[43m(\u001b[49m\n\u001b[0;32m     21\u001b[0m \u001b[43m    \u001b[49m\u001b[43mtest_data_array\u001b[49m\u001b[43m,\u001b[49m\n\u001b[0;32m     22\u001b[0m \u001b[43m    \u001b[49m\u001b[43mepochs\u001b[49m\u001b[38;5;241;43m=\u001b[39;49m\u001b[38;5;241;43m5\u001b[39;49m\u001b[43m,\u001b[49m\n\u001b[0;32m     23\u001b[0m \u001b[43m    \u001b[49m\u001b[43mbatch_size\u001b[49m\u001b[38;5;241;43m=\u001b[39;49m\u001b[38;5;241;43m32\u001b[39;49m\u001b[43m,\u001b[49m\n\u001b[0;32m     24\u001b[0m \u001b[43m    \u001b[49m\u001b[43mvalidation_data\u001b[49m\u001b[38;5;241;43m=\u001b[39;49m\u001b[43m(\u001b[49m\u001b[43mval_data_array\u001b[49m\u001b[43m,\u001b[49m\u001b[43m \u001b[49m\u001b[38;5;28;43;01mNone\u001b[39;49;00m\u001b[43m)\u001b[49m\u001b[43m,\u001b[49m\u001b[43m \u001b[49m\n\u001b[0;32m     25\u001b[0m \u001b[43m    \u001b[49m\u001b[43mcallbacks\u001b[49m\u001b[38;5;241;43m=\u001b[39;49m\u001b[43mcall_back_list\u001b[49m\u001b[43m,\u001b[49m\n\u001b[0;32m     26\u001b[0m \u001b[43m)\u001b[49m\n",
      "File \u001b[1;32mc:\\Users\\Max_G\\anaconda3\\envs\\var_auto\\lib\\site-packages\\keras\\utils\\traceback_utils.py:70\u001b[0m, in \u001b[0;36mfilter_traceback.<locals>.error_handler\u001b[1;34m(*args, **kwargs)\u001b[0m\n\u001b[0;32m     67\u001b[0m     filtered_tb \u001b[38;5;241m=\u001b[39m _process_traceback_frames(e\u001b[38;5;241m.\u001b[39m__traceback__)\n\u001b[0;32m     68\u001b[0m     \u001b[38;5;66;03m# To get the full stack trace, call:\u001b[39;00m\n\u001b[0;32m     69\u001b[0m     \u001b[38;5;66;03m# `tf.debugging.disable_traceback_filtering()`\u001b[39;00m\n\u001b[1;32m---> 70\u001b[0m     \u001b[38;5;28;01mraise\u001b[39;00m e\u001b[38;5;241m.\u001b[39mwith_traceback(filtered_tb) \u001b[38;5;28;01mfrom\u001b[39;00m \u001b[38;5;28;01mNone\u001b[39;00m\n\u001b[0;32m     71\u001b[0m \u001b[38;5;28;01mfinally\u001b[39;00m:\n\u001b[0;32m     72\u001b[0m     \u001b[38;5;28;01mdel\u001b[39;00m filtered_tb\n",
      "File \u001b[1;32mc:\\Users\\Max_G\\anaconda3\\envs\\var_auto\\lib\\site-packages\\tensorflow\\python\\eager\\execute.py:54\u001b[0m, in \u001b[0;36mquick_execute\u001b[1;34m(op_name, num_outputs, inputs, attrs, ctx, name)\u001b[0m\n\u001b[0;32m     52\u001b[0m \u001b[38;5;28;01mtry\u001b[39;00m:\n\u001b[0;32m     53\u001b[0m   ctx\u001b[38;5;241m.\u001b[39mensure_initialized()\n\u001b[1;32m---> 54\u001b[0m   tensors \u001b[38;5;241m=\u001b[39m pywrap_tfe\u001b[38;5;241m.\u001b[39mTFE_Py_Execute(ctx\u001b[38;5;241m.\u001b[39m_handle, device_name, op_name,\n\u001b[0;32m     55\u001b[0m                                       inputs, attrs, num_outputs)\n\u001b[0;32m     56\u001b[0m \u001b[38;5;28;01mexcept\u001b[39;00m core\u001b[38;5;241m.\u001b[39m_NotOkStatusException \u001b[38;5;28;01mas\u001b[39;00m e:\n\u001b[0;32m     57\u001b[0m   \u001b[38;5;28;01mif\u001b[39;00m name \u001b[38;5;129;01mis\u001b[39;00m \u001b[38;5;129;01mnot\u001b[39;00m \u001b[38;5;28;01mNone\u001b[39;00m:\n",
      "\u001b[1;31mInvalidArgumentError\u001b[0m: Graph execution error:\n\nDetected at node 'logistic_loss/mul' defined at (most recent call last):\n    File \"c:\\Users\\Max_G\\anaconda3\\envs\\var_auto\\lib\\runpy.py\", line 196, in _run_module_as_main\n      return _run_code(code, main_globals, None,\n    File \"c:\\Users\\Max_G\\anaconda3\\envs\\var_auto\\lib\\runpy.py\", line 86, in _run_code\n      exec(code, run_globals)\n    File \"c:\\Users\\Max_G\\anaconda3\\envs\\var_auto\\lib\\site-packages\\ipykernel_launcher.py\", line 18, in <module>\n      app.launch_new_instance()\n    File \"c:\\Users\\Max_G\\anaconda3\\envs\\var_auto\\lib\\site-packages\\traitlets\\config\\application.py\", line 1075, in launch_instance\n      app.start()\n    File \"c:\\Users\\Max_G\\anaconda3\\envs\\var_auto\\lib\\site-packages\\ipykernel\\kernelapp.py\", line 739, in start\n      self.io_loop.start()\n    File \"c:\\Users\\Max_G\\anaconda3\\envs\\var_auto\\lib\\site-packages\\tornado\\platform\\asyncio.py\", line 195, in start\n      self.asyncio_loop.run_forever()\n    File \"c:\\Users\\Max_G\\anaconda3\\envs\\var_auto\\lib\\asyncio\\base_events.py\", line 603, in run_forever\n      self._run_once()\n    File \"c:\\Users\\Max_G\\anaconda3\\envs\\var_auto\\lib\\asyncio\\base_events.py\", line 1909, in _run_once\n      handle._run()\n    File \"c:\\Users\\Max_G\\anaconda3\\envs\\var_auto\\lib\\asyncio\\events.py\", line 80, in _run\n      self._context.run(self._callback, *self._args)\n    File \"c:\\Users\\Max_G\\anaconda3\\envs\\var_auto\\lib\\site-packages\\ipykernel\\kernelbase.py\", line 542, in dispatch_queue\n      await self.process_one()\n    File \"c:\\Users\\Max_G\\anaconda3\\envs\\var_auto\\lib\\site-packages\\ipykernel\\kernelbase.py\", line 531, in process_one\n      await dispatch(*args)\n    File \"c:\\Users\\Max_G\\anaconda3\\envs\\var_auto\\lib\\site-packages\\ipykernel\\kernelbase.py\", line 437, in dispatch_shell\n      await result\n    File \"c:\\Users\\Max_G\\anaconda3\\envs\\var_auto\\lib\\site-packages\\ipykernel\\ipkernel.py\", line 359, in execute_request\n      await super().execute_request(stream, ident, parent)\n    File \"c:\\Users\\Max_G\\anaconda3\\envs\\var_auto\\lib\\site-packages\\ipykernel\\kernelbase.py\", line 775, in execute_request\n      reply_content = await reply_content\n    File \"c:\\Users\\Max_G\\anaconda3\\envs\\var_auto\\lib\\site-packages\\ipykernel\\ipkernel.py\", line 446, in do_execute\n      res = shell.run_cell(\n    File \"c:\\Users\\Max_G\\anaconda3\\envs\\var_auto\\lib\\site-packages\\ipykernel\\zmqshell.py\", line 549, in run_cell\n      return super().run_cell(*args, **kwargs)\n    File \"c:\\Users\\Max_G\\anaconda3\\envs\\var_auto\\lib\\site-packages\\IPython\\core\\interactiveshell.py\", line 3051, in run_cell\n      result = self._run_cell(\n    File \"c:\\Users\\Max_G\\anaconda3\\envs\\var_auto\\lib\\site-packages\\IPython\\core\\interactiveshell.py\", line 3106, in _run_cell\n      result = runner(coro)\n    File \"c:\\Users\\Max_G\\anaconda3\\envs\\var_auto\\lib\\site-packages\\IPython\\core\\async_helpers.py\", line 129, in _pseudo_sync_runner\n      coro.send(None)\n    File \"c:\\Users\\Max_G\\anaconda3\\envs\\var_auto\\lib\\site-packages\\IPython\\core\\interactiveshell.py\", line 3311, in run_cell_async\n      has_raised = await self.run_ast_nodes(code_ast.body, cell_name,\n    File \"c:\\Users\\Max_G\\anaconda3\\envs\\var_auto\\lib\\site-packages\\IPython\\core\\interactiveshell.py\", line 3493, in run_ast_nodes\n      if await self.run_code(code, result, async_=asy):\n    File \"c:\\Users\\Max_G\\anaconda3\\envs\\var_auto\\lib\\site-packages\\IPython\\core\\interactiveshell.py\", line 3553, in run_code\n      exec(code_obj, self.user_global_ns, self.user_ns)\n    File \"C:\\Users\\Max_G\\AppData\\Local\\Temp\\ipykernel_6524\\665671275.py\", line 20, in <module>\n      hist = vae.fit(\n    File \"c:\\Users\\Max_G\\anaconda3\\envs\\var_auto\\lib\\site-packages\\keras\\utils\\traceback_utils.py\", line 65, in error_handler\n      return fn(*args, **kwargs)\n    File \"c:\\Users\\Max_G\\anaconda3\\envs\\var_auto\\lib\\site-packages\\keras\\engine\\training.py\", line 1564, in fit\n      tmp_logs = self.train_function(iterator)\n    File \"c:\\Users\\Max_G\\anaconda3\\envs\\var_auto\\lib\\site-packages\\keras\\engine\\training.py\", line 1160, in train_function\n      return step_function(self, iterator)\n    File \"c:\\Users\\Max_G\\anaconda3\\envs\\var_auto\\lib\\site-packages\\keras\\engine\\training.py\", line 1146, in step_function\n      outputs = model.distribute_strategy.run(run_step, args=(data,))\n    File \"c:\\Users\\Max_G\\anaconda3\\envs\\var_auto\\lib\\site-packages\\keras\\engine\\training.py\", line 1135, in run_step\n      outputs = model.train_step(data)\n    File \"C:\\Users\\Max_G\\AppData\\Local\\Temp\\ipykernel_6524\\1517216703.py\", line 47, in train_step\n      reconstruction_loss_class = keras.losses.binary_crossentropy(\n    File \"c:\\Users\\Max_G\\anaconda3\\envs\\var_auto\\lib\\site-packages\\keras\\losses.py\", line 2162, in binary_crossentropy\n      backend.binary_crossentropy(y_true, y_pred, from_logits=from_logits),\n    File \"c:\\Users\\Max_G\\anaconda3\\envs\\var_auto\\lib\\site-packages\\keras\\backend.py\", line 5677, in binary_crossentropy\n      return tf.nn.sigmoid_cross_entropy_with_logits(\nNode: 'logistic_loss/mul'\nIncompatible shapes: [32,1] vs. [2,1]\n\t [[{{node logistic_loss/mul}}]] [Op:__inference_train_function_921174]"
     ]
    }
   ],
   "source": [
    "early_stopping_callback = EarlyStopping(\n",
    "    monitor='val_loss',  # Monitoring validation loss\n",
    "    patience=5,  # Number of epochs with no improvement after which training will be stopped\n",
    "    restore_best_weights=True  # Restore weights to the best model observed during training\n",
    ")\n",
    "\n",
    "# Define the directory to save the model\n",
    "model_dir = \"saved_model/\"\n",
    "\n",
    "# Define a TensorBoard callback for training logs\n",
    "tensorboard_callback = TensorBoard(log_dir=\"logs/vae_optimized_263\")\n",
    "\n",
    "# # Define a ModelCheckpoint callback to save the model\n",
    "# checkpoint_callback = ModelCheckpoint(\n",
    "#     filepath=model_dir, save_best_only=True, monitor=\"val_loss\", mode=\"min\"\n",
    "# )\n",
    "#tensorboard_callback\n",
    "call_back_list = [early_stopping_callback]\n",
    "\n",
    "hist = vae.fit(\n",
    "    test_data_array,\n",
    "    epochs=5,\n",
    "    batch_size=32,\n",
    "    validation_data=(val_data_array, None), \n",
    "    callbacks=call_back_list,\n",
    ")"
   ]
  },
  {
   "cell_type": "markdown",
   "metadata": {},
   "source": [
    "# Synth Data Creation"
   ]
  },
  {
   "cell_type": "code",
   "execution_count": null,
   "metadata": {},
   "outputs": [
    {
     "name": "stdout",
     "output_type": "stream",
     "text": [
      "1781/1781 [==============================] - 2s 1ms/step\n",
      "1563/1563 [==============================] - 2s 1ms/step\n"
     ]
    }
   ],
   "source": [
    "# synth Data from Data\n",
    "generated_data_cont_from_data, generated_data_class_from_data = vae.decoder.predict(\n",
    "    encoder(test_data_array)[2]\n",
    ")\n",
    "\n",
    "# synth Data from Data random sample\n",
    "latent_vectors = np.random.normal(scale=1, size=(50000, latent_dim))\n",
    "generated_data_cont_from_sample, generated_data_class_from_sample = vae.decoder.predict(latent_vectors)"
   ]
  },
  {
   "cell_type": "markdown",
   "metadata": {},
   "source": [
    "Saving the synth data from data"
   ]
  },
  {
   "cell_type": "code",
   "execution_count": null,
   "metadata": {},
   "outputs": [
    {
     "name": "stdout",
     "output_type": "stream",
     "text": [
      "[6990]\n"
     ]
    }
   ],
   "source": [
    "binary_predictions_from_data = (generated_data_class_from_data >= 0.5).astype(int)\n",
    "print(sum(binary_predictions_from_data))\n",
    "\n",
    "# Create DataFrame with synthetic data\n",
    "synthetic_data_from_data = pd.DataFrame(generated_data_cont_from_data, columns=train_data.columns[:-1])\n",
    "# Add binary_predictions as an additional column\n",
    "synthetic_data_from_data[\"Class\"] = binary_predictions_from_data\n",
    "#synthetic_data_from_data.to_csv(\"../data/interim/synthdata_from_data.csv\", index=False)"
   ]
  },
  {
   "cell_type": "markdown",
   "metadata": {},
   "source": [
    "Saving the synth data from sample"
   ]
  },
  {
   "cell_type": "code",
   "execution_count": null,
   "metadata": {},
   "outputs": [
    {
     "name": "stdout",
     "output_type": "stream",
     "text": [
      "[8268]\n"
     ]
    }
   ],
   "source": [
    "binary_predictions_from_sample = (generated_data_class_from_sample >= 0.5).astype(int)\n",
    "print(sum(binary_predictions_from_sample))\n",
    "\n",
    "# Create DataFrame with synthetic data\n",
    "synthetic_data_from_sample = pd.DataFrame(\n",
    "    generated_data_cont_from_sample, columns=train_data.columns[:-1]\n",
    ")\n",
    "# Add binary_predictions as an additional column\n",
    "synthetic_data_from_sample[\"Class\"] = binary_predictions_from_sample\n",
    "#synthetic_data_from_sample.to_csv(\"../data/interim/synthdata_from_sample.csv\", index=False)"
   ]
  },
  {
   "cell_type": "code",
   "execution_count": 1,
   "metadata": {},
   "outputs": [],
   "source": [
    "# test line"
   ]
  },
  {
   "cell_type": "code",
   "execution_count": null,
   "metadata": {},
   "outputs": [
    {
     "data": {
      "image/png": "[encoded data removed]",
      "text/plain": [
       "<Figure size 640x480 with 1 Axes>"
      ]
     },
     "metadata": {},
     "output_type": "display_data"
    }
   ],
   "source": [
    "# Assuming iris_array is the NumPy array you obtained from the Pandas DataFrame\n",
    "colum_num = 18\n",
    "original_column = train_data_array[:, colum_num]\n",
    "\n",
    "synth_column = generated_data_cont_from_data[:, colum_num]\n",
    "\n",
    "# Calculate the percentage for original_column\n",
    "total_points_original = len(original_column)\n",
    "percentage_original = (original_column / total_points_original) * 100\n",
    "\n",
    "# Calculate the percentage for synth_column\n",
    "total_points_synth = len(synth_column)\n",
    "percentage_synth = (synth_column / total_points_synth) * 100\n",
    "\n",
    "# Plot histograms\n",
    "plt.hist(\n",
    "    original_column,\n",
    "    bins=25,\n",
    "    color=\"g\",\n",
    "    alpha=0.6,\n",
    "    weights=np.ones_like(original_column) / total_points_original * 100,\n",
    "    label=\"Original Data\",\n",
    ")\n",
    "\n",
    "plt.hist(\n",
    "    synth_column,\n",
    "    bins=25,\n",
    "    color=\"b\",\n",
    "    alpha=0.6,\n",
    "    weights=np.ones_like(synth_column) / total_points_synth * 100,\n",
    "    label=\"Synthetic Data\",\n",
    ")\n",
    "\n",
    "plt.title(\"Histogram of Original and Synthetic Data\")\n",
    "plt.xlabel(\"Values\")\n",
    "plt.ylabel(\"Percentage\")\n",
    "plt.legend()\n",
    "\n",
    "plt.show()"
   ]
  },
  {
   "cell_type": "code",
   "execution_count": null,
   "metadata": {},
   "outputs": [
    {
     "ename": "NameError",
     "evalue": "name 'df_credit' is not defined",
     "output_type": "error",
     "traceback": [
      "\u001b[1;31m---------------------------------------------------------------------------\u001b[0m",
      "\u001b[1;31mNameError\u001b[0m                                 Traceback (most recent call last)",
      "Cell \u001b[1;32mIn[214], line 2\u001b[0m\n\u001b[0;32m      1\u001b[0m \u001b[38;5;66;03m# For each feature, create a histogram for the real and synthetic data\u001b[39;00m\n\u001b[1;32m----> 2\u001b[0m \u001b[38;5;28;01mfor\u001b[39;00m feature \u001b[38;5;129;01min\u001b[39;00m \u001b[43mdf_credit\u001b[49m\u001b[38;5;241m.\u001b[39mcolumns[:\u001b[38;5;241m-\u001b[39m\u001b[38;5;241m1\u001b[39m]:\n\u001b[0;32m      5\u001b[0m     plt\u001b[38;5;241m.\u001b[39mfigure(figsize\u001b[38;5;241m=\u001b[39m(\u001b[38;5;241m10\u001b[39m, \u001b[38;5;241m5\u001b[39m))\n\u001b[0;32m      7\u001b[0m     plt\u001b[38;5;241m.\u001b[39msubplot(\u001b[38;5;241m1\u001b[39m, \u001b[38;5;241m2\u001b[39m, \u001b[38;5;241m1\u001b[39m)\n",
      "\u001b[1;31mNameError\u001b[0m: name 'df_credit' is not defined"
     ]
    }
   ],
   "source": [
    "# For each feature, create a histogram for the real and synthetic data\n",
    "for feature in df_credit.columns[:-1]:\n",
    "    \n",
    "    \n",
    "    plt.figure(figsize=(10, 5))\n",
    "\n",
    "    plt.subplot(1, 2, 1)\n",
    "    plt.hist(real_data[feature], bins=20, alpha=0.5, color=\"g\", label=\"Real\")\n",
    "    plt.title(f\"Real Data: {feature}\")\n",
    "    plt.legend()\n",
    "\n",
    "    plt.subplot(1, 2, 2)\n",
    "    plt.hist(synthetic_data[feature], bins=20, alpha=0.5, color=\"b\", label=\"Synthetic\")\n",
    "    plt.title(f\"Synthetic Data: {feature}\")\n",
    "    plt.legend()\n",
    "\n",
    "    plt.show()\n",
    "\n",
    "# Print the summary statistics for the real and synthetic data\n",
    "print(\"Summary statistics for the real data:\")\n",
    "print(real_data.describe())\n",
    "print(\"\\nSummary statistics for the synthetic data:\")\n",
    "print(synthetic_data.describe())\n",
    "\n",
    "plt.show()"
   ]
  },
  {
   "cell_type": "code",
   "execution_count": null,
   "metadata": {},
   "outputs": [
    {
     "name": "stdout",
     "output_type": "stream",
     "text": [
      "Training Accuracy: 0.9998745987158909\n",
      "Testing Accuracy: 0.9996488764044944\n"
     ]
    }
   ],
   "source": [
    "import pandas as pd\n",
    "from sklearn.model_selection import train_test_split\n",
    "from sklearn.metrics import confusion_matrix\n",
    "from sklearn.ensemble import RandomForestClassifier\n",
    "from sklearn.metrics import accuracy_score\n",
    "\n",
    "\n",
    "\n",
    "\n",
    "# Assuming the target variable is in the last column\n",
    "X_train = train_data[:, :-1]  # Features for training\n",
    "y_train = train_data[:, -1]  # Target variable for training\n",
    "\n",
    "X_test = test_data[:, :-1]  # Features for testing\n",
    "y_test = test_data[:, -1]  # Target variable for testing\n",
    "\n",
    "\n",
    "# Step 3: Instantiate the model\n",
    "random_forest = RandomForestClassifier(n_estimators=100, max_depth=10, random_state=42)\n",
    "\n",
    "# Step 4: Train the model\n",
    "random_forest.fit(X_train, y_train)\n",
    "\n",
    "# Step 5: Evaluate the model\n",
    "train_accuracy = accuracy_score(y_train, random_forest.predict(X_train))\n",
    "test_accuracy = accuracy_score(y_test, random_forest.predict(X_test))\n",
    "\n",
    "print(\"Training Accuracy:\", train_accuracy)\n",
    "print(\"Testing Accuracy:\", test_accuracy)"
   ]
  },
  {
   "cell_type": "code",
   "execution_count": null,
   "metadata": {},
   "outputs": [
    {
     "name": "stdout",
     "output_type": "stream",
     "text": [
      "Accuracy: 0.9990344440153085\n",
      "Confusion Matrix:\n",
      "[[56849    44]\n",
      " [   11    58]]\n"
     ]
    }
   ],
   "source": [
    "from sklearn.metrics import accuracy_score, confusion_matrix\n",
    "\n",
    "# Get predictions from the random forest model\n",
    "predictions = random_forest.predict(generated_data_cont)\n",
    "\n",
    "# Compute accuracy score\n",
    "accuracy = accuracy_score(binary_predictions, predictions)\n",
    "print(\"Accuracy:\", accuracy)\n",
    "\n",
    "# Compute confusion matrix\n",
    "cm = confusion_matrix(\n",
    "    predictions, binary_predictions\n",
    ")\n",
    "\n",
    "print(\"Confusion Matrix:\")\n",
    "print(cm)"
   ]
  }
 ],
 "metadata": {
  "kernelspec": {
   "display_name": "var_auto",
   "language": "python",
   "name": "python3"
  },
  "language_info": {
   "codemirror_mode": {
    "name": "ipython",
    "version": 3
   },
   "file_extension": ".py",
   "mimetype": "text/x-python",
   "name": "python",
   "nbconvert_exporter": "python",
   "pygments_lexer": "ipython3",
   "version": "3.10.13"
  }
 },
 "nbformat": 4,
 "nbformat_minor": 2
}
