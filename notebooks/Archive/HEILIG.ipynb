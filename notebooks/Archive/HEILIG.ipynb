{
 "cells": [
  {
   "cell_type": "code",
   "execution_count": 1,
   "metadata": {},
   "outputs": [],
   "source": [
    "import numpy as np\n",
    "from tensorflow import keras\n",
    "from keras.layers import Input, Dense, Lambda\n",
    "import tensorflow as tf\n",
    "from sklearn.datasets import load_iris\n",
    "import pandas as pd\n",
    "import matplotlib.pyplot as plt\n",
    "from sklearn.datasets import make_classification\n",
    "from keras import backend as K\n",
    "from sklearn.model_selection import train_test_split\n"
   ]
  },
  {
   "cell_type": "code",
   "execution_count": 2,
   "metadata": {},
   "outputs": [],
   "source": [
    "# Define the desired number of samples for each class\n",
    "class_samples = [20000, 20]  # Adjust these numbers as needed\n",
    "\n",
    "# Calculate weights based on the desired number of samples\n",
    "class_weights = [num_samples / sum(class_samples) for num_samples in class_samples]\n",
    "\n",
    "\n",
    "# Generate a synthetic dataset with different numbers of samples for each class\n",
    "X, y = make_classification(\n",
    "    n_samples=sum(class_samples),\n",
    "    n_features=4,\n",
    "    n_informative=4,\n",
    "    n_redundant=0,\n",
    "    n_classes=2,\n",
    "    weights=class_weights,\n",
    "    random_state=42,\n",
    ")\n",
    "\n",
    "\n",
    "# Create a Pandas DataFrame with the generated data\n",
    "columns = [\"Feature_1\", \"Feature_2\", \"Feature_3\", \"Feature_4\"]\n",
    "synthetic_df = pd.DataFrame(data=X, columns=columns)\n",
    "\n",
    "for column in synthetic_df:\n",
    "    std = np.std(synthetic_df[column])\n",
    "    mean = np.mean(synthetic_df[column])\n",
    "    synthetic_df[column] = synthetic_df[column]-mean\n",
    "    synthetic_df[column] = synthetic_df[column]/std\n",
    "\n",
    "\n",
    "synthetic_df[\"target\"] = y\n",
    "\n",
    "# Display the first few rows of the synthetic dataset\n",
    "synthetic_array =synthetic_df.values"
   ]
  },
  {
   "cell_type": "code",
   "execution_count": 3,
   "metadata": {},
   "outputs": [],
   "source": [
    "class Sampling(keras.layers.Layer):\n",
    "    def call(self, inputs):\n",
    "        z_mean, z_log_var = inputs\n",
    "        batch = tf.shape(z_mean)[0]\n",
    "        dim = tf.shape(z_mean)[1]\n",
    "        epsilon = tf.keras.backend.random_normal(shape=(batch, dim))\n",
    "        return z_mean + tf.exp(0.5 * z_log_var) * epsilon"
   ]
  },
  {
   "cell_type": "code",
   "execution_count": 4,
   "metadata": {},
   "outputs": [
    {
     "name": "stdout",
     "output_type": "stream",
     "text": [
      "Model: \"encoder\"\n",
      "__________________________________________________________________________________________________\n",
      " Layer (type)                   Output Shape         Param #     Connected to                     \n",
      "==================================================================================================\n",
      " input_layer (InputLayer)       [(None, 5)]          0           []                               \n",
      "                                                                                                  \n",
      " h1 (Dense)                     (None, 50)           300         ['input_layer[0][0]']            \n",
      "                                                                                                  \n",
      " h2 (Dense)                     (None, 40)           2040        ['h1[0][0]']                     \n",
      "                                                                                                  \n",
      " h3 (Dense)                     (None, 30)           1230        ['h2[0][0]']                     \n",
      "                                                                                                  \n",
      " select_z_mean (Lambda)         (None, 15)           0           ['h3[0][0]']                     \n",
      "                                                                                                  \n",
      " select_z_var (Lambda)          (None, 15)           0           ['h3[0][0]']                     \n",
      "                                                                                                  \n",
      " z_mean (Dense)                 (None, 6)            96          ['select_z_mean[0][0]']          \n",
      "                                                                                                  \n",
      " z_log_var (Dense)              (None, 6)            96          ['select_z_var[0][0]']           \n",
      "                                                                                                  \n",
      " Sampling (Sampling)            (None, 6)            0           ['z_mean[0][0]',                 \n",
      "                                                                  'z_log_var[0][0]']              \n",
      "                                                                                                  \n",
      "==================================================================================================\n",
      "Total params: 3,762\n",
      "Trainable params: 3,762\n",
      "Non-trainable params: 0\n",
      "__________________________________________________________________________________________________\n"
     ]
    }
   ],
   "source": [
    "latent_dim = 6\n",
    "encoder_inputs = Input(shape=(5), name=\"input_layer\")\n",
    "x1 = Dense(50, activation=\"relu\", name=\"h1\")(encoder_inputs)\n",
    "x2 = Dense(40, activation=\"relu\", name=\"h2\")(x1)\n",
    "\n",
    "n_x3 = 30\n",
    "\n",
    "x3 = Dense(n_x3, activation=\"relu\", name=\"h3\")(x2)\n",
    "\n",
    "# Split x3 into two halves\n",
    "half_size = n_x3 // 2\n",
    "x3_first_half = Lambda(lambda x: x[:, :half_size], name=\"select_z_mean\")(x3)\n",
    "x3_second_half = Lambda(lambda x: x[:, half_size:], name=\"select_z_var\")(x3)\n",
    "\n",
    "z_mean = Dense(latent_dim, name=\"z_mean\")(x3_first_half)\n",
    "z_log_var = Dense(latent_dim, name=\"z_log_var\")(x3_second_half)\n",
    "z = Sampling(name=\"Sampling\")([z_mean, z_log_var])\n",
    "\n",
    "encoder = keras.Model(encoder_inputs, [z_mean, z_log_var, z], name=\"encoder\")\n",
    "encoder.summary()"
   ]
  },
  {
   "cell_type": "code",
   "execution_count": 5,
   "metadata": {},
   "outputs": [
    {
     "data": {
      "image/png": "[encoded data removed]",
      "text/plain": [
       "<IPython.core.display.Image object>"
      ]
     },
     "execution_count": 5,
     "metadata": {},
     "output_type": "execute_result"
    }
   ],
   "source": [
    "keras.utils.plot_model(encoder, show_shapes=True)"
   ]
  },
  {
   "cell_type": "code",
   "execution_count": 6,
   "metadata": {},
   "outputs": [
    {
     "data": {
      "text/plain": [
       "39"
      ]
     },
     "execution_count": 6,
     "metadata": {},
     "output_type": "execute_result"
    }
   ],
   "source": [
    "n_x6 = 50\n",
    "int(n_x6 * 0.8 - 1)"
   ]
  },
  {
   "cell_type": "code",
   "execution_count": 7,
   "metadata": {},
   "outputs": [
    {
     "name": "stdout",
     "output_type": "stream",
     "text": [
      "Model: \"decoder\"\n",
      "__________________________________________________________________________________________________\n",
      " Layer (type)                   Output Shape         Param #     Connected to                     \n",
      "==================================================================================================\n",
      " input_1 (InputLayer)           [(None, 6)]          0           []                               \n",
      "                                                                                                  \n",
      " h4 (Dense)                     (None, 30)           210         ['input_1[0][0]']                \n",
      "                                                                                                  \n",
      " h5 (Dense)                     (None, 40)           1240        ['h4[0][0]']                     \n",
      "                                                                                                  \n",
      " h6 (Dense)                     (None, 50)           2050        ['h5[0][0]']                     \n",
      "                                                                                                  \n",
      " select_x6_cont (Lambda)        (None, 40)           0           ['h6[0][0]']                     \n",
      "                                                                                                  \n",
      " select_x6_class (Lambda)       (None, 10)           0           ['h6[0][0]']                     \n",
      "                                                                                                  \n",
      " cont_decoder_output (Dense)    (None, 4)            164         ['select_x6_cont[0][0]']         \n",
      "                                                                                                  \n",
      " classification_output (Dense)  (None, 1)            11          ['select_x6_class[0][0]']        \n",
      "                                                                                                  \n",
      "==================================================================================================\n",
      "Total params: 3,675\n",
      "Trainable params: 3,675\n",
      "Non-trainable params: 0\n",
      "__________________________________________________________________________________________________\n"
     ]
    }
   ],
   "source": [
    "# Decoder\n",
    "latent_inputs = keras.Input(shape=(latent_dim,))\n",
    "x4 = Dense(30, activation=\"relu\", name=\"h4\")(latent_inputs)\n",
    "x5 = Dense(40, activation=\"relu\", name=\"h5\")(x4)\n",
    "\n",
    "n_x6 = 50\n",
    "\n",
    "x6 = Dense(n_x6, activation=\"relu\", name=\"h6\")(x5)\n",
    "\n",
    "# Split x6 into two parts (80% and 20%)\n",
    "cont_decoder_input = Lambda(lambda x: x[:, :int(0.8 * n_x6)], name=\"select_x6_cont\")(x6)\n",
    "class_decoder_input = Lambda(lambda x: x[:, int(0.8 * n_x6):], name=\"select_x6_class\")(x6)\n",
    "\n",
    "cont_decoder_outputs = Dense(4, name=\"cont_decoder_output\")(cont_decoder_input)\n",
    "class_decoder_output = Dense(1, activation=\"sigmoid\", name=\"classification_output\")(class_decoder_input)\n",
    "\n",
    "decoder = keras.Model(latent_inputs, [cont_decoder_outputs, class_decoder_output], name=\"decoder\")\n",
    "decoder.summary()\n"
   ]
  },
  {
   "cell_type": "code",
   "execution_count": 8,
   "metadata": {},
   "outputs": [],
   "source": [
    "class VAE(keras.Model):\n",
    "    def __init__(self, encoder, decoder, **kwargs):\n",
    "        super().__init__(**kwargs)\n",
    "        self.encoder = encoder\n",
    "        self.decoder = decoder\n",
    "        self.total_loss_tracker = keras.metrics.Mean(name=\"total_loss\")\n",
    "        self.reconstruction_loss_tracker = keras.metrics.Mean(\n",
    "            name=\"reconstruction_loss\"\n",
    "        )\n",
    "        self.kl_loss_tracker = keras.metrics.Mean(name=\"kl_loss\")\n",
    "        self.reconstruction_loss_class_tracker = keras.metrics.Mean(\n",
    "            name=\"reconstruction_loss_class\"\n",
    "        )\n",
    "\n",
    "    @property\n",
    "    def metrics(self):\n",
    "        return [\n",
    "            self.total_loss_tracker,\n",
    "            self.reconstruction_loss_tracker,\n",
    "            self.kl_loss_tracker,\n",
    "            self.reconstruction_loss_class_tracker,\n",
    "\n",
    "        ]\n",
    "\n",
    "    def train_step(self, data):\n",
    "        with tf.GradientTape() as tape:\n",
    "            z_mean, z_log_var, z = self.encoder(data)\n",
    "            reconstruction_cont, reconstruction_class = self.decoder(z)\n",
    "\n",
    "            data_cont = data[\n",
    "                :, :4\n",
    "            ]  # Assuming the first 4 columns are for continuous variables\n",
    "            data_class = data[:, 4:]  # Assuming the last column is for classification\n",
    "\n",
    "            # Reconstruction loss for continuous outputs\n",
    "            reconstruction_loss_cont = keras.losses.mean_squared_error(\n",
    "                data_cont, reconstruction_cont\n",
    "            )\n",
    "\n",
    "            # Reconstruction loss for classification output\n",
    "            reconstruction_loss_class = keras.losses.binary_crossentropy(\n",
    "                data_class, reconstruction_class\n",
    "            )\n",
    "\n",
    "            kl_loss = -0.5 * (1 + z_log_var - tf.square(z_mean) - tf.exp(z_log_var))\n",
    "            kl_loss = tf.reduce_mean(kl_loss, axis=1)\n",
    "\n",
    "            # Combine losses\n",
    "            total_loss = (\n",
    "                reconstruction_loss_cont + reconstruction_loss_class + kl_loss\n",
    "            )\n",
    "\n",
    "        grads = tape.gradient(total_loss, self.trainable_weights)\n",
    "        self.optimizer.apply_gradients(zip(grads, self.trainable_weights))\n",
    "        self.total_loss_tracker.update_state(total_loss)\n",
    "        self.reconstruction_loss_tracker.update_state(reconstruction_loss_cont)\n",
    "        self.kl_loss_tracker.update_state(kl_loss)\n",
    "        self.reconstruction_loss_class_tracker.update_state(reconstruction_loss_class)\n",
    "        return {\n",
    "            \"loss\": self.total_loss_tracker.result(),\n",
    "            \"reconstruction_loss_cont\": self.reconstruction_loss_tracker.result(),\n",
    "            \"reconstruction_loss_class\": self.reconstruction_loss_class_tracker.result(),\n",
    "            \"kl_loss\": self.kl_loss_tracker.result(),\n",
    "            \"sparse_categorical_crossentropy\": self.reconstruction_loss_class_tracker.result(), \n",
    "        }\n",
    "\n",
    "    def test_step(self, data):\n",
    "        \"\"\"Step run during validation.\"\"\"\n",
    "        # if isinstance(data, tuple):\n",
    "        #     data = data[0]  # Unpack the tuple and take the input data\n",
    "\n",
    "        data_cont = data[:, :4]  # Assuming the first 4 columns are for continuous variables\n",
    "        data_class = data[:, 4:]  # Assuming the last column is for classification\n",
    "\n",
    "        z_mean, z_log_var, z = self.encoder(data)\n",
    "        reconstruction_cont, reconstruction_class = self.decoder(z)\n",
    "        reconstruction_loss_cont = keras.losses.mean_squared_error(\n",
    "            data_cont, reconstruction_cont\n",
    "        )\n",
    "\n",
    "        # Reconstruction loss for classification output\n",
    "        reconstruction_loss_class = keras.losses.binary_crossentropy(\n",
    "            data_class, reconstruction_class\n",
    "        )\n",
    "\n",
    "        kl_loss = -0.5 * (1 + z_log_var - tf.square(z_mean) - tf.exp(z_log_var))\n",
    "        kl_loss = tf.reduce_mean(kl_loss, axis=1)\n",
    "\n",
    "        # Combine losses\n",
    "        total_loss = (\n",
    "                reconstruction_loss_cont + reconstruction_loss_class + kl_loss\n",
    "            )\n",
    "\n",
    "        # Update the loss tracker\n",
    "        self.total_loss_tracker.update_state(total_loss)\n",
    "\n",
    "        # Update other metrics\n",
    "        self.reconstruction_loss_tracker.update_state(reconstruction_loss_cont)\n",
    "        self.kl_loss_tracker.update_state(kl_loss)\n",
    "        self.reconstruction_loss_class_tracker.update_state(reconstruction_loss_class)\n",
    "\n",
    "        # Return a dict mapping metric names to current value\n",
    "        return {\n",
    "            \"loss\": self.total_loss_tracker.result(),\n",
    "            \"reconstruction_loss_cont\": self.reconstruction_loss_tracker.result(),\n",
    "            \"reconstruction_loss_class\": self.reconstruction_loss_class_tracker.result(),\n",
    "            \"kl_loss\": self.kl_loss_tracker.result(),\n",
    "        }\n",
    "\n",
    "   "
   ]
  },
  {
   "cell_type": "code",
   "execution_count": 9,
   "metadata": {},
   "outputs": [],
   "source": [
    "vae = VAE(encoder, decoder)\n",
    "vae.compile(optimizer=keras.optimizers.Adam())"
   ]
  },
  {
   "cell_type": "code",
   "execution_count": 10,
   "metadata": {},
   "outputs": [],
   "source": [
    "\n",
    "\n",
    "# Specify the test_size and validation_size according to your needs\n",
    "test_size = 0.2  # 80% training, 20% test\n",
    "validation_size = 0.1  # 80% training, 10% validation\n",
    "\n",
    "# Split into training and temporary data\n",
    "train_data, temp_data = train_test_split(\n",
    "    synthetic_array, test_size=test_size + validation_size, random_state=42\n",
    ")\n",
    "\n",
    "# Split the temporary data into test and validation\n",
    "test_data, validation_data = train_test_split(\n",
    "    temp_data,\n",
    "    test_size=validation_size / (test_size + validation_size),\n",
    "    random_state=42,\n",
    ")\n",
    "\n",
    "\n",
    "# # Convert NumPy arrays to tf.data.Dataset\n",
    "# train_dataset = tf.data.Dataset.from_tensor_slices((train_data, train_data))\n",
    "# validation_dataset = tf.data.Dataset.from_tensor_slices(\n",
    "#     (validation_data, validation_data)\n",
    "# )\n",
    "# test_dataset = tf.data.Dataset.from_tensor_slices((test_data, test_data))"
   ]
  },
  {
   "cell_type": "code",
   "execution_count": 11,
   "metadata": {},
   "outputs": [
    {
     "name": "stdout",
     "output_type": "stream",
     "text": [
      "Epoch 1/2\n",
      "438/438 [==============================] - 3s 3ms/step - loss: 1.2542 - reconstruction_loss_cont: 0.8722 - reconstruction_loss_class: 0.1327 - kl_loss: 0.1742 - sparse_categorical_crossentropy: 0.3016 - val_loss: 0.7297 - val_reconstruction_loss_cont: 0.4213 - val_reconstruction_loss_class: 0.0294 - val_kl_loss: 0.2790\n",
      "Epoch 2/2\n",
      "438/438 [==============================] - 1s 3ms/step - loss: 0.7405 - reconstruction_loss_cont: 0.4099 - reconstruction_loss_class: 0.0397 - kl_loss: 0.2950 - sparse_categorical_crossentropy: 0.0387 - val_loss: 0.7016 - val_reconstruction_loss_cont: 0.3867 - val_reconstruction_loss_class: 0.0272 - val_kl_loss: 0.2877\n"
     ]
    }
   ],
   "source": [
    "from keras.callbacks import EarlyStopping\n",
    "early_stopping_callback = EarlyStopping(\n",
    "    monitor='val_loss',  # Monitoring validation loss\n",
    "    patience=5,  # Number of epochs with no improvement after which training will be stopped\n",
    "    restore_best_weights=True  # Restore weights to the best model observed during training\n",
    ")\n",
    "\n",
    "\n",
    "hist = vae.fit(\n",
    "    train_data,\n",
    "    epochs=2,\n",
    "    batch_size=32,\n",
    "    validation_data=(test_data,None),  # Provide validation data here\n",
    "    callbacks=[early_stopping_callback],\n",
    ")"
   ]
  },
  {
   "cell_type": "code",
   "execution_count": 12,
   "metadata": {},
   "outputs": [
    {
     "name": "stdout",
     "output_type": "stream",
     "text": [
      "1250/1250 [==============================] - 1s 1ms/step\n"
     ]
    }
   ],
   "source": [
    "latent_vectors = np.random.normal(size=(40000, latent_dim))\n",
    "\n",
    "# Use the decoder to generate data\n",
    "generated_data_cont, generated_data_class = vae.decoder.predict(latent_vectors)"
   ]
  },
  {
   "cell_type": "code",
   "execution_count": 13,
   "metadata": {},
   "outputs": [],
   "source": [
    "binary_predictions = (generated_data_class >= 0.5).astype(int)"
   ]
  },
  {
   "cell_type": "code",
   "execution_count": 14,
   "metadata": {},
   "outputs": [
    {
     "data": {
      "text/plain": [
       "0.0"
      ]
     },
     "execution_count": 14,
     "metadata": {},
     "output_type": "execute_result"
    }
   ],
   "source": [
    "sum(binary_predictions.flatten()) / (40000)"
   ]
  },
  {
   "cell_type": "code",
   "execution_count": 15,
   "metadata": {},
   "outputs": [
    {
     "data": {
      "text/plain": [
       "0.006351245272247199"
      ]
     },
     "execution_count": 15,
     "metadata": {},
     "output_type": "execute_result"
    }
   ],
   "source": [
    "sum(train_data[:, 4].flatten()) / len(train_data[:, 4])"
   ]
  },
  {
   "cell_type": "code",
   "execution_count": 16,
   "metadata": {},
   "outputs": [
    {
     "data": {
      "image/png": "[encoded data removed]",
      "text/plain": [
       "<Figure size 640x480 with 1 Axes>"
      ]
     },
     "metadata": {},
     "output_type": "display_data"
    }
   ],
   "source": [
    "# Assuming iris_array is the NumPy array you obtained from the Pandas DataFrame\n",
    "colum_num = 1\n",
    "original_column = train_data[:, colum_num]\n",
    "\n",
    "synth_column = generated_data_cont[:, colum_num]\n",
    "\n",
    "# Calculate the percentage for original_column\n",
    "total_points_original = len(original_column)\n",
    "percentage_original = (original_column / total_points_original) * 100\n",
    "\n",
    "# Calculate the percentage for synth_column\n",
    "total_points_synth = len(synth_column)\n",
    "percentage_synth = (synth_column / total_points_synth) * 100\n",
    "\n",
    "# Plot histograms\n",
    "plt.hist(\n",
    "    original_column,\n",
    "    bins=25,\n",
    "    color=\"g\",\n",
    "    alpha=0.6,\n",
    "    weights=np.ones_like(original_column) / total_points_original * 100,\n",
    "    label=\"Original Data\",\n",
    ")\n",
    "\n",
    "plt.hist(\n",
    "    synth_column,\n",
    "    bins=25,\n",
    "    color=\"b\",\n",
    "    alpha=0.6,\n",
    "    weights=np.ones_like(synth_column) / total_points_synth * 100,\n",
    "    label=\"Synthetic Data\",\n",
    ")\n",
    "\n",
    "plt.title(\"Histogram of Original and Synthetic Data\")\n",
    "plt.xlabel(\"Values\")\n",
    "plt.ylabel(\"Percentage\")\n",
    "plt.legend()\n",
    "\n",
    "plt.show()"
   ]
  },
  {
   "cell_type": "code",
   "execution_count": 17,
   "metadata": {},
   "outputs": [
    {
     "data": {
      "image/png": "[encoded data removed]",
      "text/plain": [
       "<Figure size 640x480 with 1 Axes>"
      ]
     },
     "metadata": {},
     "output_type": "display_data"
    }
   ],
   "source": [
    "# Assuming iris_array is the NumPy array you obtained from the Pandas DataFrame\n",
    "original_column = synthetic_array[:, 4]\n",
    "\n",
    "synth_column = binary_predictions\n",
    "\n",
    "# Calculate the percentage for original_column\n",
    "total_points_original = len(original_column)\n",
    "percentage_original = (original_column / total_points_original) * 100\n",
    "\n",
    "# Calculate the percentage for synth_column\n",
    "total_points_synth = len(synth_column)\n",
    "percentage_synth = (synth_column / total_points_synth) * 100\n",
    "\n",
    "# Plot histograms\n",
    "plt.hist(\n",
    "    original_column,\n",
    "    bins=25,\n",
    "    color=\"g\",\n",
    "    alpha=0.6,\n",
    "    weights=np.ones_like(original_column) / total_points_original * 100,\n",
    "    label=\"Original Data\",\n",
    ")\n",
    "\n",
    "plt.hist(\n",
    "    synth_column,\n",
    "    bins=25,\n",
    "    color=\"b\",\n",
    "    alpha=0.6,\n",
    "    weights=np.ones_like(synth_column) / total_points_synth * 100,\n",
    "    label=\"Synthetic Data\",\n",
    ")\n",
    "\n",
    "plt.title(\"Histogram of Original and Synthetic Data\")\n",
    "plt.xlabel(\"Values\")\n",
    "plt.ylabel(\"Percentage\")\n",
    "plt.legend()\n",
    "\n",
    "plt.show()"
   ]
  }
 ],
 "metadata": {
  "kernelspec": {
   "display_name": "var_auto",
   "language": "python",
   "name": "python3"
  },
  "language_info": {
   "codemirror_mode": {
    "name": "ipython",
    "version": 3
   },
   "file_extension": ".py",
   "mimetype": "text/x-python",
   "name": "python",
   "nbconvert_exporter": "python",
   "pygments_lexer": "ipython3",
   "version": "3.10.13"
  }
 },
 "nbformat": 4,
 "nbformat_minor": 2
}
