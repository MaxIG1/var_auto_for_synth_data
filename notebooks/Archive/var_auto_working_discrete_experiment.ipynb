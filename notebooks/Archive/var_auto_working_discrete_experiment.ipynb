{
 "cells": [
  {
   "cell_type": "markdown",
   "metadata": {},
   "source": [
    "# Saving Branch"
   ]
  },
  {
   "cell_type": "markdown",
   "metadata": {},
   "source": [
    "# Importing Libraries"
   ]
  },
  {
   "cell_type": "code",
   "execution_count": 24,
   "metadata": {},
   "outputs": [],
   "source": [
    "import numpy as np\n",
    "from tensorflow import keras\n",
    "from keras.layers import Input, Dense, Lambda\n",
    "import tensorflow as tf\n",
    "import pandas as pd\n",
    "import matplotlib.pyplot as plt\n",
    "from sklearn.datasets import make_classification\n",
    "from keras import backend as K\n",
    "import matplotlib.pyplot as plt\n",
    "import numpy as np"
   ]
  },
  {
   "cell_type": "code",
   "execution_count": 25,
   "metadata": {},
   "outputs": [
    {
     "name": "stdout",
     "output_type": "stream",
     "text": [
      "GPU is not available. Switching to CPU.\n"
     ]
    }
   ],
   "source": [
    "# Check for GPU availability\n",
    "if tf.config.list_physical_devices(\"GPU\"):\n",
    "    print(\"GPU is available.\")\n",
    "    physical_devices = tf.config.list_physical_devices(\"GPU\")\n",
    "    tf.config.experimental.set_memory_growth(physical_devices[0], enable=True)\n",
    "else:\n",
    "    print(\"GPU is not available. Switching to CPU.\")"
   ]
  },
  {
   "cell_type": "markdown",
   "metadata": {},
   "source": [
    "# Creating fake data to replicate"
   ]
  },
  {
   "cell_type": "code",
   "execution_count": 26,
   "metadata": {},
   "outputs": [],
   "source": [
    "# Define the desired number of samples for each class\n",
    "class_samples = [2000, 3000, 2500, 1500]  # Adjust these numbers as needed\n",
    "\n",
    "# Calculate weights based on the desired number of samples\n",
    "class_weights = [num_samples / sum(class_samples) for num_samples in class_samples]\n",
    "\n",
    "\n",
    "# Generate a synthetic dataset with different numbers of samples for each class\n",
    "X, y = make_classification(\n",
    "    n_samples=sum(class_samples),\n",
    "    n_features=4,\n",
    "    n_informative=4,\n",
    "    n_redundant=0,\n",
    "    n_classes=4,\n",
    "    weights=class_weights,\n",
    "    random_state=42,\n",
    ")\n",
    "\n",
    "# Create a Pandas DataFrame with the generated data\n",
    "columns = [\"Feature_1\", \"Feature_2\", \"Feature_3\", \"Feature_4\"]\n",
    "synthetic_df = pd.DataFrame(data=X, columns=columns)\n",
    "\n",
    "for column in synthetic_df:\n",
    "    std = np.std(synthetic_df[column])\n",
    "    mean = np.mean(synthetic_df[column])\n",
    "    synthetic_df[column] = synthetic_df[column]-mean\n",
    "    synthetic_df[column] = synthetic_df[column]/std\n",
    "\n",
    "\n",
    "synthetic_df[\"target\"] = y\n",
    "\n",
    "# Display the first few rows of the synthetic dataset\n",
    "synthetic_array =synthetic_df.values"
   ]
  },
  {
   "cell_type": "markdown",
   "metadata": {},
   "source": [
    "# Defining the sampling layer that is also the call"
   ]
  },
  {
   "cell_type": "markdown",
   "metadata": {},
   "source": []
  },
  {
   "cell_type": "code",
   "execution_count": 27,
   "metadata": {},
   "outputs": [],
   "source": [
    "class Sampling(keras.layers.Layer):\n",
    "\n",
    "    def call(self, inputs):\n",
    "        z_mean, z_log_var = inputs\n",
    "        batch = tf.shape(z_mean)[0]\n",
    "        dim = tf.shape(z_mean)[1]\n",
    "        epsilon = tf.keras.backend.random_normal(shape=(batch, dim))\n",
    "        return z_mean + tf.exp(0.5 * z_log_var) * epsilon\n"
   ]
  },
  {
   "cell_type": "markdown",
   "metadata": {},
   "source": [
    "# Encoder"
   ]
  },
  {
   "cell_type": "code",
   "execution_count": 28,
   "metadata": {},
   "outputs": [],
   "source": [
    "latent_dim = 10\n",
    "encoder_inputs = Input(shape=(5), name=\"input_layer\")\n",
    "\n",
    "n_x = 50\n",
    "x = Dense(n_x, activation=\"relu\", name=\"h1\")(encoder_inputs)\n",
    "\n",
    "# Split x into two halves\n",
    "half_size = n_x // 2\n",
    "x3_first_half = Lambda(lambda x: x[:, :half_size], name=\"select_z_mean\")(x)\n",
    "x3_second_half = Lambda(lambda x: x[:, half_size:], name=\"select_z_var\")(x)\n",
    "\n",
    "z_mean = Dense(latent_dim, name=\"z_mean\")(x3_first_half)\n",
    "z_log_var = Dense(latent_dim, name=\"z_log_var\")(x3_second_half)\n",
    "z = Sampling(name=\"Sampling\")([z_mean, z_log_var])\n",
    "\n",
    "encoder = keras.Model(encoder_inputs, [z_mean, z_log_var, z], name=\"encoder\")"
   ]
  },
  {
   "cell_type": "markdown",
   "metadata": {},
   "source": [
    "# Decoder"
   ]
  },
  {
   "cell_type": "code",
   "execution_count": 29,
   "metadata": {},
   "outputs": [
    {
     "name": "stdout",
     "output_type": "stream",
     "text": [
      "Model: \"decoder\"\n",
      "__________________________________________________________________________________________________\n",
      " Layer (type)                   Output Shape         Param #     Connected to                     \n",
      "==================================================================================================\n",
      " input_2 (InputLayer)           [(None, 10)]         0           []                               \n",
      "                                                                                                  \n",
      " h4 (Dense)                     (None, 30)           330         ['input_2[0][0]']                \n",
      "                                                                                                  \n",
      " cont_decoder_output (Dense)    (None, 4)            124         ['h4[0][0]']                     \n",
      "                                                                                                  \n",
      " classification_output (Dense)  (None, 4)            124         ['h4[0][0]']                     \n",
      "                                                                                                  \n",
      "==================================================================================================\n",
      "Total params: 578\n",
      "Trainable params: 578\n",
      "Non-trainable params: 0\n",
      "__________________________________________________________________________________________________\n"
     ]
    }
   ],
   "source": [
    "# Decoder\n",
    "latent_inputs = keras.Input(shape=(latent_dim,))\n",
    "n_x = 30\n",
    "\n",
    "x = Dense(n_x, activation=\"relu\", name=\"h4\")(latent_inputs)\n",
    "\n",
    "cont_decoder_outputs = Dense(4, activation=\"linear\", name=\"cont_decoder_output\")(x)\n",
    "class_decoder_output = Dense(4, activation=\"softmax\", name=\"classification_output\")(x)\n",
    "\n",
    "decoder = keras.Model(latent_inputs, [cont_decoder_outputs, class_decoder_output], name=\"decoder\")\n",
    "decoder.summary()"
   ]
  },
  {
   "cell_type": "markdown",
   "metadata": {},
   "source": [
    "# Custom VAE"
   ]
  },
  {
   "cell_type": "code",
   "execution_count": 30,
   "metadata": {},
   "outputs": [],
   "source": [
    "class VAE(keras.Model):\n",
    "    def __init__(self, encoder, decoder, **kwargs):\n",
    "        super().__init__(**kwargs)\n",
    "        self.encoder = encoder\n",
    "        self.decoder = decoder\n",
    "        self.total_loss_tracker = keras.metrics.Mean(name=\"total_loss\")\n",
    "\n",
    "    @property\n",
    "    def metrics(self):\n",
    "        return [\n",
    "            self.total_loss_tracker,\n",
    "        ]\n",
    "\n",
    "    def call(self, inputs):\n",
    "        # Define the forward pass\n",
    "        encoded = self.encoder(inputs)\n",
    "        decoded = self.decoder(encoded)\n",
    "        return decoded\n",
    "\n",
    "    def train_step(self, data):\n",
    "        with tf.GradientTape() as tape:\n",
    "            z_mean, z_log_var, z = self.encoder(data)\n",
    "            reconstruction_cont, reconstruction_class = self.decoder(z)\n",
    "\n",
    "            data_cont = data[\n",
    "                :, :4\n",
    "            ]  # Assuming the first 4 columns are for continuous variables\n",
    "            data_class = data[:, 4:]  # Assuming the last column is for classification\n",
    "\n",
    "            # Reconstruction loss for continuous outputs\n",
    "            reconstruction_loss_cont = keras.losses.mean_squared_error(\n",
    "                data_cont, reconstruction_cont\n",
    "            )\n",
    "\n",
    "            # Reconstruction loss for classification output\n",
    "            reconstruction_loss_class = keras.losses.sparse_categorical_crossentropy(\n",
    "                data_class, reconstruction_class\n",
    "            )\n",
    "\n",
    "            kl_loss = -0.5 * (1 + z_log_var - tf.square(z_mean) - tf.exp(z_log_var))\n",
    "            kl_loss = tf.reduce_mean(kl_loss, axis=1)\n",
    "\n",
    "            # Combine losses\n",
    "            total_loss = (\n",
    "                reconstruction_loss_cont + reconstruction_loss_class + kl_loss\n",
    "            )\n",
    "\n",
    "        grads = tape.gradient(total_loss, self.trainable_weights)\n",
    "        self.optimizer.apply_gradients(zip(grads, self.trainable_weights))\n",
    "        self.total_loss_tracker.update_state(total_loss)\n",
    "\n",
    "        return {\n",
    "            \"loss\": self.total_loss_tracker.result(),\n",
    "        }\n",
    "\n",
    "    def get_config(self):\n",
    "        config = super(VAE, self).get_config()\n",
    "        config.update(\n",
    "            {\n",
    "                \"encoder\": self.encoder,\n",
    "                \"decoder\": self.decoder,\n",
    "            }\n",
    "        )\n",
    "        return config"
   ]
  },
  {
   "cell_type": "markdown",
   "metadata": {},
   "source": [
    "# Compile and Train"
   ]
  },
  {
   "cell_type": "code",
   "execution_count": 31,
   "metadata": {},
   "outputs": [],
   "source": [
    "vae = VAE(encoder, decoder)\n",
    "vae.compile(optimizer=keras.optimizers.Adam())"
   ]
  },
  {
   "cell_type": "code",
   "execution_count": 32,
   "metadata": {},
   "outputs": [
    {
     "name": "stdout",
     "output_type": "stream",
     "text": [
      "563/563 [==============================] - 1s 1ms/step - loss: 2.3165\n"
     ]
    },
    {
     "data": {
      "text/plain": [
       "<keras.callbacks.History at 0x19521dc79a0>"
      ]
     },
     "execution_count": 32,
     "metadata": {},
     "output_type": "execute_result"
    }
   ],
   "source": [
    "vae.fit(\n",
    "    synthetic_array,\n",
    "    epochs=1,\n",
    "    batch_size=16,\n",
    ")"
   ]
  },
  {
   "cell_type": "code",
   "execution_count": 33,
   "metadata": {},
   "outputs": [],
   "source": [
    "vae.save_weights(\"herre\")"
   ]
  },
  {
   "cell_type": "code",
   "execution_count": 34,
   "metadata": {},
   "outputs": [],
   "source": [
    "vae1 = VAE(encoder, decoder)\n",
    "vae1.compile(optimizer=keras.optimizers.Adam())"
   ]
  },
  {
   "cell_type": "code",
   "execution_count": 35,
   "metadata": {},
   "outputs": [
    {
     "data": {
      "text/plain": [
       "<tensorflow.python.checkpoint.checkpoint.CheckpointLoadStatus at 0x19525532170>"
      ]
     },
     "execution_count": 35,
     "metadata": {},
     "output_type": "execute_result"
    }
   ],
   "source": [
    "vae1.load_weights(\"herre\")"
   ]
  },
  {
   "cell_type": "code",
   "execution_count": 47,
   "metadata": {},
   "outputs": [
    {
     "data": {
      "text/plain": [
       "True"
      ]
     },
     "execution_count": 47,
     "metadata": {},
     "output_type": "execute_result"
    }
   ],
   "source": [
    "vae1.weights == vae.weights"
   ]
  },
  {
   "cell_type": "code",
   "execution_count": 36,
   "metadata": {},
   "outputs": [
    {
     "name": "stdout",
     "output_type": "stream",
     "text": [
      "282/282 [==============================] - 0s 884us/step\n"
     ]
    }
   ],
   "source": [
    "latent_vectors = np.random.normal(size=(9000, latent_dim))\n",
    "\n",
    "# Use the decoder to generate data\n",
    "generated_data_cont, generated_data_class = vae.decoder.predict(latent_vectors)\n",
    "generated_data_class_transformed = np.argmax(generated_data_class, axis=1)"
   ]
  },
  {
   "cell_type": "code",
   "execution_count": 37,
   "metadata": {},
   "outputs": [],
   "source": [
    "# tf.saved_model.save(vae, \"my_model_tf\")\n",
    "# loaded_model = tf.saved_model.load(\"my_model_tf\")"
   ]
  },
  {
   "cell_type": "markdown",
   "metadata": {},
   "source": [
    "# Generate data and visualy inspect"
   ]
  },
  {
   "cell_type": "code",
   "execution_count": 38,
   "metadata": {},
   "outputs": [
    {
     "name": "stdout",
     "output_type": "stream",
     "text": [
      "282/282 [==============================] - 0s 1ms/step\n"
     ]
    }
   ],
   "source": [
    "latent_vectors = np.random.normal(size=(9000, latent_dim))\n",
    "\n",
    "# Use the decoder to generate data\n",
    "generated_data_cont1, generated_data_class1 = vae1.decoder.predict(latent_vectors)\n",
    "generated_data_class_transformed1 = np.argmax(generated_data_class, axis=1)"
   ]
  },
  {
   "cell_type": "code",
   "execution_count": 40,
   "metadata": {},
   "outputs": [
    {
     "data": {
      "image/png": "[encoded data removed]",
      "text/plain": [
       "<Figure size 640x480 with 1 Axes>"
      ]
     },
     "metadata": {},
     "output_type": "display_data"
    }
   ],
   "source": [
    "# Plot histogram for original data\n",
    "first_column_original = generated_data_cont1[:, 2]\n",
    "total_points_original = len(first_column_original)\n",
    "percentage_original = (first_column_original / total_points_original) * 100\n",
    "\n",
    "plt.hist(\n",
    "    first_column_original,\n",
    "    bins=25,\n",
    "    color=\"g\",\n",
    "    alpha=0.6,\n",
    "    weights=np.ones_like(first_column_original) / total_points_original * 100,\n",
    "    label=\"Original Data\",\n",
    ")\n",
    "\n",
    "# Plot histogram for generated data\n",
    "first_column_generated = generated_data_cont[:, 2]\n",
    "total_points_generated = len(first_column_generated)\n",
    "percentage_generated = (first_column_generated / total_points_generated) * 100\n",
    "\n",
    "plt.hist(\n",
    "    first_column_generated,\n",
    "    bins=25,\n",
    "    color=\"b\",\n",
    "    alpha=0.6,\n",
    "    weights=np.ones_like(first_column_generated) / total_points_generated * 100,\n",
    "    label=\"Generated Data\",\n",
    ")\n",
    "\n",
    "plt.title(\"Histogram of Original and Generated Data\")\n",
    "plt.xlabel(\"Values\")\n",
    "plt.ylabel(\"Percentage\")\n",
    "plt.legend()\n",
    "plt.show()"
   ]
  },
  {
   "cell_type": "code",
   "execution_count": 1,
   "metadata": {},
   "outputs": [],
   "source": [
    "# fuck you"
   ]
  }
 ],
 "metadata": {
  "kernelspec": {
   "display_name": "var_auto",
   "language": "python",
   "name": "python3"
  },
  "language_info": {
   "codemirror_mode": {
    "name": "ipython",
    "version": 3
   },
   "file_extension": ".py",
   "mimetype": "text/x-python",
   "name": "python",
   "nbconvert_exporter": "python",
   "pygments_lexer": "ipython3",
   "version": "3.10.13"
  }
 },
 "nbformat": 4,
 "nbformat_minor": 2
}
