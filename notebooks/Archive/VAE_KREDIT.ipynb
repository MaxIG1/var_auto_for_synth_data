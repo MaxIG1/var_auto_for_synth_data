{
 "cells": [
  {
   "cell_type": "code",
   "execution_count": 662,
   "metadata": {},
   "outputs": [],
   "source": [
    "import numpy as np\n",
    "from tensorflow import keras\n",
    "from keras.layers import Input, Dense, Lambda\n",
    "import tensorflow as tf\n",
    "import pandas as pd\n",
    "import matplotlib.pyplot as plt\n",
    "from sklearn.datasets import make_classification\n",
    "from keras import backend as K\n",
    "from sklearn.model_selection import train_test_split\n"
   ]
  },
  {
   "cell_type": "code",
   "execution_count": 663,
   "metadata": {},
   "outputs": [],
   "source": [
    "df_credit = pd.read_csv(\"../data/interim/creditcard_min_max.csv\")"
   ]
  },
  {
   "cell_type": "code",
   "execution_count": 664,
   "metadata": {},
   "outputs": [],
   "source": [
    "def gumbel_sample(shape, dtype=tf.float32, eps=1e-20):\n",
    "    uniform = tf.random.uniform(shape, minval=0, maxval=1, dtype=dtype)\n",
    "    return 0 - 0.0005 * tf.math.log(-tf.math.log(uniform + eps) + eps)"
   ]
  },
  {
   "cell_type": "code",
   "execution_count": 665,
   "metadata": {},
   "outputs": [],
   "source": [
    "class Sampling(keras.layers.Layer):\n",
    "    def call(self, inputs):\n",
    "        z_mean, z_log_var = inputs\n",
    "        batch = tf.shape(z_mean)[0]\n",
    "        dim = tf.shape(z_mean)[1]\n",
    "        # epsilon = gumbel_sample((batch, dim))\n",
    "        epsilon = tf.keras.backend.random_normal(shape=(batch, dim))\n",
    "        return z_mean + tf.exp(0.5 * z_log_var) * epsilon"
   ]
  },
  {
   "cell_type": "code",
   "execution_count": 666,
   "metadata": {},
   "outputs": [
    {
     "name": "stdout",
     "output_type": "stream",
     "text": [
      "Model: \"encoder\"\n",
      "__________________________________________________________________________________________________\n",
      " Layer (type)                   Output Shape         Param #     Connected to                     \n",
      "==================================================================================================\n",
      " input_layer (InputLayer)       [(None, 31)]         0           []                               \n",
      "                                                                                                  \n",
      " h1 (Dense)                     (None, 256)          8192        ['input_layer[0][0]']            \n",
      "                                                                                                  \n",
      " h2 (Dense)                     (None, 256)          65792       ['h1[0][0]']                     \n",
      "                                                                                                  \n",
      " h3 (Dense)                     (None, 256)          65792       ['h2[0][0]']                     \n",
      "                                                                                                  \n",
      " select_z_mean (Lambda)         (None, 128)          0           ['h3[0][0]']                     \n",
      "                                                                                                  \n",
      " select_z_var (Lambda)          (None, 128)          0           ['h3[0][0]']                     \n",
      "                                                                                                  \n",
      " z_mean (Dense)                 (None, 20)           2580        ['select_z_mean[0][0]']          \n",
      "                                                                                                  \n",
      " z_log_var (Dense)              (None, 20)           2580        ['select_z_var[0][0]']           \n",
      "                                                                                                  \n",
      " Sampling (Sampling)            (None, 20)           0           ['z_mean[0][0]',                 \n",
      "                                                                  'z_log_var[0][0]']              \n",
      "                                                                                                  \n",
      "==================================================================================================\n",
      "Total params: 144,936\n",
      "Trainable params: 144,936\n",
      "Non-trainable params: 0\n",
      "__________________________________________________________________________________________________\n"
     ]
    }
   ],
   "source": [
    "latent_dim = 20\n",
    "encoder_inputs = Input(shape=(31), name=\"input_layer\")\n",
    "x1 = Dense(256, activation=\"relu\", name=\"h1\")(encoder_inputs)\n",
    "x2 = Dense(256, activation=\"relu\", name=\"h2\")(x1)\n",
    "\n",
    "n_x3 = 256\n",
    "\n",
    "x3 = Dense(n_x3, activation=\"relu\", name=\"h3\")(x2)\n",
    "\n",
    "# Split x3 into two halves\n",
    "half_size = n_x3 // 2\n",
    "x3_first_half = Lambda(lambda x: x[:, :half_size], name=\"select_z_mean\")(x3)\n",
    "x3_second_half = Lambda(lambda x: x[:, half_size:], name=\"select_z_var\")(x3)\n",
    "\n",
    "z_mean = Dense(latent_dim, name=\"z_mean\")(x3_first_half)\n",
    "z_log_var = Dense(latent_dim, name=\"z_log_var\")(x3_second_half)\n",
    "z = Sampling(name=\"Sampling\")([z_mean, z_log_var])\n",
    "\n",
    "encoder = keras.Model(encoder_inputs, [z_mean, z_log_var, z], name=\"encoder\")\n",
    "encoder.summary()"
   ]
  },
  {
   "cell_type": "code",
   "execution_count": 667,
   "metadata": {},
   "outputs": [
    {
     "data": {
      "image/png": "[encoded data removed]",
      "text/plain": [
       "<IPython.core.display.Image object>"
      ]
     },
     "execution_count": 667,
     "metadata": {},
     "output_type": "execute_result"
    }
   ],
   "source": [
    "keras.utils.plot_model(encoder, show_shapes=True)"
   ]
  },
  {
   "cell_type": "code",
   "execution_count": 668,
   "metadata": {},
   "outputs": [
    {
     "name": "stdout",
     "output_type": "stream",
     "text": [
      "Model: \"decoder\"\n",
      "__________________________________________________________________________________________________\n",
      " Layer (type)                   Output Shape         Param #     Connected to                     \n",
      "==================================================================================================\n",
      " input_36 (InputLayer)          [(None, 20)]         0           []                               \n",
      "                                                                                                  \n",
      " h4 (Dense)                     (None, 256)          5376        ['input_36[0][0]']               \n",
      "                                                                                                  \n",
      " h5 (Dense)                     (None, 256)          65792       ['h4[0][0]']                     \n",
      "                                                                                                  \n",
      " h6 (Dense)                     (None, 256)          65792       ['h5[0][0]']                     \n",
      "                                                                                                  \n",
      " select_x6_cont (Lambda)        (None, 247)          0           ['h6[0][0]']                     \n",
      "                                                                                                  \n",
      " select_x6_class (Lambda)       (None, 9)            0           ['h6[0][0]']                     \n",
      "                                                                                                  \n",
      " cont_decoder_output (Dense)    (None, 30)           7440        ['select_x6_cont[0][0]']         \n",
      "                                                                                                  \n",
      " classification_output (Dense)  (None, 1)            10          ['select_x6_class[0][0]']        \n",
      "                                                                                                  \n"
     ]
    },
    {
     "name": "stdout",
     "output_type": "stream",
     "text": [
      "==================================================================================================\n",
      "Total params: 144,410\n",
      "Trainable params: 144,410\n",
      "Non-trainable params: 0\n",
      "__________________________________________________________________________________________________\n"
     ]
    }
   ],
   "source": [
    "# Decoder\n",
    "latent_inputs = keras.Input(shape=(latent_dim,))\n",
    "x4 = Dense(256, activation=\"relu\", name=\"h4\")(latent_inputs)\n",
    "x5 = Dense(256, activation=\"relu\", name=\"h5\")(x4)\n",
    "\n",
    "n_x6 = 256\n",
    "\n",
    "x6 = Dense(n_x6, activation=\"relu\", name=\"h6\")(x5)\n",
    "\n",
    "# Split x6 into two parts (80% and 20%)\n",
    "cont_decoder_input = Lambda(lambda x: x[:, :int(30/31 * n_x6)], name=\"select_x6_cont\")(x6)\n",
    "class_decoder_input = Lambda(lambda x: x[:, int(30/31 * n_x6):], name=\"select_x6_class\")(x6)\n",
    "\n",
    "cont_decoder_outputs = Dense(30, name=\"cont_decoder_output\")(cont_decoder_input)\n",
    "class_decoder_output = Dense(1, activation=\"sigmoid\", name=\"classification_output\")(class_decoder_input)\n",
    "\n",
    "decoder = keras.Model(latent_inputs, [cont_decoder_outputs, class_decoder_output], name=\"decoder\")\n",
    "decoder.summary()\n"
   ]
  },
  {
   "cell_type": "code",
   "execution_count": 669,
   "metadata": {},
   "outputs": [],
   "source": [
    "\n",
    "\n",
    "class VAE(keras.Model):\n",
    "    def __init__(self, encoder, decoder, **kwargs):\n",
    "        super().__init__(**kwargs)\n",
    "        self.encoder = encoder\n",
    "        self.decoder = decoder\n",
    "        self.total_loss_tracker = keras.metrics.Mean(name=\"total_loss\")\n",
    "        self.reconstruction_loss_tracker = keras.metrics.Mean(\n",
    "            name=\"reconstruction_loss\"\n",
    "        )\n",
    "        self.kl_loss_tracker = keras.metrics.Mean(name=\"kl_loss\")\n",
    "        self.reconstruction_loss_class_tracker = keras.metrics.Mean(\n",
    "            name=\"reconstruction_loss_class\"\n",
    "        )\n",
    "\n",
    "    @property\n",
    "    def metrics(self):\n",
    "        return [\n",
    "            self.total_loss_tracker,\n",
    "            self.reconstruction_loss_tracker,\n",
    "            self.kl_loss_tracker,\n",
    "            self.reconstruction_loss_class_tracker,\n",
    "\n",
    "        ]\n",
    "\n",
    "    def train_step(self, data):\n",
    "        with tf.GradientTape() as tape:\n",
    "            z_mean, z_log_var, z = self.encoder(data)\n",
    "            reconstruction_cont, reconstruction_class = self.decoder(z)\n",
    "\n",
    "            data_cont = data[\n",
    "                :, :30\n",
    "            ]  # Assuming the first 4 columns are for continuous variables\n",
    "            data_class = data[:, 30:]  # Assuming the last column is for classification\n",
    "\n",
    "            # Reconstruction loss for continuous outputs\n",
    "            reconstruction_loss_cont = keras.losses.mean_squared_error(\n",
    "                data_cont, reconstruction_cont\n",
    "            )\n",
    "\n",
    "            # Reconstruction loss for classification output\n",
    "            reconstruction_loss_class = keras.losses.binary_crossentropy(\n",
    "                data_class, reconstruction_class\n",
    "            )\n",
    "\n",
    "            kl_loss = -0.5 * (1 + z_log_var - tf.square(z_mean) - tf.exp(z_log_var))\n",
    "            kl_loss = tf.reduce_mean(kl_loss, axis=1)\n",
    "\n",
    "            # Combine losses\n",
    "            total_loss = (\n",
    "                reconstruction_loss_cont + reconstruction_loss_class + kl_loss\n",
    "            )\n",
    "\n",
    "        grads = tape.gradient(total_loss, self.trainable_weights)\n",
    "        self.optimizer.apply_gradients(zip(grads, self.trainable_weights))\n",
    "        self.total_loss_tracker.update_state(total_loss)\n",
    "        self.reconstruction_loss_tracker.update_state(reconstruction_loss_cont)\n",
    "        self.kl_loss_tracker.update_state(kl_loss)\n",
    "        self.reconstruction_loss_class_tracker.update_state(reconstruction_loss_class)\n",
    "        return {\n",
    "            \"loss\": self.total_loss_tracker.result(),\n",
    "            \"reconstruction_loss_cont\": self.reconstruction_loss_tracker.result(),\n",
    "            \"reconstruction_loss_class\": self.reconstruction_loss_class_tracker.result(),\n",
    "            \"kl_loss\": self.kl_loss_tracker.result(),\n",
    "            \"sparse_categorical_crossentropy\": self.reconstruction_loss_class_tracker.result(), \n",
    "        }\n",
    "\n",
    "    def test_step(self, data):\n",
    "        \"\"\"Step run during validation.\"\"\"\n",
    "        if isinstance(data, tuple):\n",
    "            data = data[0]  # Unpack the tuple and take the input data\n",
    "\n",
    "        data_cont = data[:, :30]  # Assuming the first 4 columns are for continuous variables\n",
    "        data_class = data[:, 30:]  # Assuming the last column is for classification\n",
    "\n",
    "        z_mean, z_log_var, z = self.encoder(data)\n",
    "        reconstruction_cont, reconstruction_class =self.decoder(z)\n",
    "\n",
    "        reconstruction_loss_cont = keras.losses.mean_squared_error(\n",
    "            data_cont, reconstruction_cont\n",
    "        )\n",
    "\n",
    "        # Reconstruction loss for classification output\n",
    "        reconstruction_loss_class = keras.losses.binary_crossentropy(\n",
    "            data_class, reconstruction_class\n",
    "        )\n",
    "\n",
    "        kl_loss = -0.5 * (\n",
    "            1 + z_log_var - tf.square(z_mean) - tf.exp(z_log_var)\n",
    "        )\n",
    "        kl_loss = tf.reduce_mean(kl_loss, axis=1)\n",
    "\n",
    "        # Combine losses\n",
    "        total_loss = (\n",
    "                reconstruction_loss_cont + reconstruction_loss_class + kl_loss\n",
    "            )\n",
    "\n",
    "        # Update the loss tracker\n",
    "        self.total_loss_tracker.update_state(total_loss)\n",
    "\n",
    "        # Update other metrics\n",
    "        self.reconstruction_loss_tracker.update_state(reconstruction_loss_cont)\n",
    "        self.kl_loss_tracker.update_state(kl_loss)\n",
    "        self.reconstruction_loss_class_tracker.update_state(reconstruction_loss_class)\n",
    "\n",
    "        # Return a dict mapping metric names to current value\n",
    "        return {\n",
    "            \"loss\": self.total_loss_tracker.result(),\n",
    "            \"reconstruction_loss_cont\": self.reconstruction_loss_tracker.result(),\n",
    "            \"reconstruction_loss_class\": self.reconstruction_loss_class_tracker.result(),\n",
    "            \"kl_loss\": self.kl_loss_tracker.result(),\n",
    "        }"
   ]
  },
  {
   "cell_type": "code",
   "execution_count": 670,
   "metadata": {},
   "outputs": [],
   "source": [
    "vae = VAE(encoder, decoder)\n",
    "vae.compile(optimizer=keras.optimizers.Adam())"
   ]
  },
  {
   "cell_type": "code",
   "execution_count": 671,
   "metadata": {},
   "outputs": [],
   "source": [
    "credit_array = df_credit.values\n",
    "total_length = len(credit_array)  # Get the total number of elements in credit_array\n",
    "\n",
    "\n",
    "\n",
    "twenty_percent_length = int(0.2 * total_length)  # Calculate 20% of the total length\n",
    "# Slice the first 20 percent of the values in credit_array\n",
    "credit_array_cut = credit_array[:twenty_percent_length]\n",
    "\n",
    "# Specify the test_size and validation_size according to your needs\n",
    "test_size = 0.2  # 80% training, 20% test\n",
    "validation_size = 0.1  # 80% training, 10% validation\n",
    "\n",
    "# Split into training and temporary data\n",
    "train_data, temp_data = train_test_split(\n",
    "    credit_array_cut, test_size=test_size + validation_size, random_state=42\n",
    ")\n",
    "\n",
    "# Split the temporary data into test and validation\n",
    "test_data, validation_data = train_test_split(\n",
    "    temp_data,\n",
    "    test_size=validation_size / (test_size + validation_size),\n",
    "    random_state=42,\n",
    ")"
   ]
  },
  {
   "cell_type": "code",
   "execution_count": 672,
   "metadata": {},
   "outputs": [
    {
     "name": "stdout",
     "output_type": "stream",
     "text": [
      "Epoch 1/3\n"
     ]
    },
    {
     "name": "stdout",
     "output_type": "stream",
     "text": [
      "1246/1246 [==============================] - 5s 4ms/step - loss: 0.0546 - reconstruction_loss_cont: 0.0146 - reconstruction_loss_class: 0.0119 - kl_loss: 0.0025 - sparse_categorical_crossentropy: 0.0375 - val_loss: 0.0073 - val_reconstruction_loss_cont: 0.0025 - val_reconstruction_loss_class: 0.0021 - val_kl_loss: 0.0027\n",
      "Epoch 2/3\n",
      "1246/1246 [==============================] - 4s 3ms/step - loss: 0.0075 - reconstruction_loss_cont: 0.0025 - reconstruction_loss_class: 0.0016 - kl_loss: 0.0036 - sparse_categorical_crossentropy: 0.0018 - val_loss: 0.0050 - val_reconstruction_loss_cont: 0.0022 - val_reconstruction_loss_class: 5.6775e-04 - val_kl_loss: 0.0023\n",
      "Epoch 3/3\n",
      "1246/1246 [==============================] - 4s 3ms/step - loss: 0.0072 - reconstruction_loss_cont: 0.0023 - reconstruction_loss_class: 0.0019 - kl_loss: 0.0031 - sparse_categorical_crossentropy: 0.0018 - val_loss: 0.0087 - val_reconstruction_loss_cont: 0.0021 - val_reconstruction_loss_class: 8.6993e-04 - val_kl_loss: 0.0057\n"
     ]
    }
   ],
   "source": [
    "from keras.callbacks import EarlyStopping\n",
    "early_stopping_callback = EarlyStopping(\n",
    "    monitor='val_loss',  # Monitoring validation loss\n",
    "    patience=5,  # Number of epochs with no improvement after which training will be stopped\n",
    "    restore_best_weights=True  # Restore weights to the best model observed during training\n",
    ")\n",
    "\n",
    "hist = vae.fit(\n",
    "    train_data,\n",
    "    epochs=3,\n",
    "    batch_size=32,\n",
    "    validation_data=(test_data,None),  # Provide validation data here\n",
    "    callbacks=[early_stopping_callback],\n",
    ")"
   ]
  },
  {
   "cell_type": "code",
   "execution_count": 689,
   "metadata": {},
   "outputs": [
    {
     "name": "stdout",
     "output_type": "stream",
     "text": [
      "625/625 [==============================] - 1s 2ms/step\n"
     ]
    }
   ],
   "source": [
    "latent_vectors = np.random.normal(scale=1.5, size=(20000, latent_dim)\n",
    ")  # gumbel_sample((20000, latent_dim))\n",
    "# np.random.normal(size=(20000, latent_dim))\n",
    "\n",
    "\n",
    "\n",
    "# Use the decoder to generate data\n",
    "\n",
    "\n",
    "generated_data_cont, generated_data_class = vae.decoder.predict(latent_vectors)"
   ]
  },
  {
   "cell_type": "code",
   "execution_count": 690,
   "metadata": {},
   "outputs": [],
   "source": [
    "# generated_data_cont, generated_data_class = vae.decoder.predict(\n",
    "#     vae.encoder(train_data)[2]\n",
    "# )"
   ]
  },
  {
   "cell_type": "code",
   "execution_count": 691,
   "metadata": {},
   "outputs": [],
   "source": [
    "binary_predictions = (generated_data_class >= 0.5).astype(int)"
   ]
  },
  {
   "cell_type": "code",
   "execution_count": 692,
   "metadata": {},
   "outputs": [
    {
     "data": {
      "text/plain": [
       "0.00035"
      ]
     },
     "execution_count": 692,
     "metadata": {},
     "output_type": "execute_result"
    }
   ],
   "source": [
    "sum(binary_predictions.flatten()) / (20000)"
   ]
  },
  {
   "cell_type": "code",
   "execution_count": 695,
   "metadata": {},
   "outputs": [
    {
     "data": {
      "image/png": "[encoded data removed]",
      "text/plain": [
       "<Figure size 640x480 with 1 Axes>"
      ]
     },
     "metadata": {},
     "output_type": "display_data"
    }
   ],
   "source": [
    "# Assuming iris_array is the NumPy array you obtained from the Pandas DataFrame\n",
    "colum_num = 10\n",
    "original_column = train_data[:, colum_num]\n",
    "\n",
    "synth_column = generated_data_cont[:, colum_num]\n",
    "\n",
    "# Calculate the percentage for original_column\n",
    "total_points_original = len(original_column)\n",
    "percentage_original = (original_column / total_points_original) * 100\n",
    "\n",
    "# Calculate the percentage for synth_column\n",
    "total_points_synth = len(synth_column)\n",
    "percentage_synth = (synth_column / total_points_synth) * 100\n",
    "\n",
    "# Plot histograms\n",
    "plt.hist(\n",
    "    original_column,\n",
    "    bins=25,\n",
    "    color=\"g\",\n",
    "    alpha=0.6,\n",
    "    weights=np.ones_like(original_column) / total_points_original * 100,\n",
    "    label=\"Original Data\",\n",
    ")\n",
    "\n",
    "plt.hist(\n",
    "    synth_column,\n",
    "    bins=25,\n",
    "    color=\"b\",\n",
    "    alpha=0.6,\n",
    "    weights=np.ones_like(synth_column) / total_points_synth * 100,\n",
    "    label=\"Synthetic Data\",\n",
    ")\n",
    "\n",
    "plt.title(\"Histogram of Original and Synthetic Data\")\n",
    "plt.xlabel(\"Values\")\n",
    "plt.ylabel(\"Percentage\")\n",
    "plt.legend()\n",
    "\n",
    "plt.show()"
   ]
  }
 ],
 "metadata": {
  "kernelspec": {
   "display_name": "var_auto",
   "language": "python",
   "name": "python3"
  },
  "language_info": {
   "codemirror_mode": {
    "name": "ipython",
    "version": 3
   },
   "file_extension": ".py",
   "mimetype": "text/x-python",
   "name": "python",
   "nbconvert_exporter": "python",
   "pygments_lexer": "ipython3",
   "version": "3.10.13"
  }
 },
 "nbformat": 4,
 "nbformat_minor": 2
}
