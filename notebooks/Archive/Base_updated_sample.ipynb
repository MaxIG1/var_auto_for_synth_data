{
 "cells": [
  {
   "cell_type": "code",
   "execution_count": 51,
   "metadata": {},
   "outputs": [],
   "source": [
    "import numpy as np\n",
    "from tensorflow import keras\n",
    "from keras.layers import Input, Dense, Lambda, BatchNormalization\n",
    "import tensorflow as tf\n",
    "import pandas as pd\n",
    "import matplotlib.pyplot as plt\n",
    "from keras import backend as K\n",
    "from sklearn.model_selection import train_test_split\n",
    "import pandas as pd\n",
    "import matplotlib.pyplot as plt\n",
    "from sklearn import datasets\n",
    "from tensorflow.keras.callbacks import TensorBoard, ModelCheckpoint, EarlyStopping\n",
    "from tensorflow.keras.models import load_model\n",
    "from tensorflow.keras.models import save_model\n",
    "from scipy.special import rel_entr\n"
   ]
  },
  {
   "cell_type": "code",
   "execution_count": 52,
   "metadata": {},
   "outputs": [],
   "source": [
    "train_data = pd.read_csv(\"../data/interim/split/sorted_train_data_mm.csv\")\n",
    "test_data = pd.read_csv(\"../data/interim/split/sorted_test_data_mm.csv\")\n",
    "val_data = pd.read_csv(\"../data/interim/split/sorted_val_data_mm.csv\")"
   ]
  },
  {
   "cell_type": "code",
   "execution_count": 53,
   "metadata": {},
   "outputs": [],
   "source": [
    "train_data_array = train_data.values\n",
    "test_data_array = test_data.values\n",
    "val_data_array = val_data.values"
   ]
  },
  {
   "cell_type": "code",
   "execution_count": 54,
   "metadata": {},
   "outputs": [],
   "source": [
    "class Sampling(keras.layers.Layer):\n",
    "    def call(self, inputs):\n",
    "        z_mean, z_log_var = inputs\n",
    "        batch = tf.shape(z_mean)[0]\n",
    "        dim = tf.shape(z_mean)[1]\n",
    "        # epsilon = gumbel_sample((batch, dim))\n",
    "        epsilon = tf.keras.backend.random_normal(shape=(batch, dim))\n",
    "        return z_mean + tf.exp(0.5 * z_log_var) * epsilon\n",
    "\n",
    "    def get_config(self):\n",
    "        return {}\n",
    "\n",
    "    @classmethod\n",
    "    def from_config(cls, config):\n",
    "        return cls()"
   ]
  },
  {
   "cell_type": "code",
   "execution_count": 55,
   "metadata": {},
   "outputs": [
    {
     "name": "stdout",
     "output_type": "stream",
     "text": [
      "Model: \"encoder\"\n",
      "__________________________________________________________________________________________________\n",
      " Layer (type)                   Output Shape         Param #     Connected to                     \n",
      "==================================================================================================\n",
      " input_layer (InputLayer)       [(None, 31)]         0           []                               \n",
      "                                                                                                  \n",
      " h1 (Dense)                     (None, 128)          4096        ['input_layer[0][0]']            \n",
      "                                                                                                  \n",
      " batch1 (BatchNormalization)    (None, 128)          512         ['h1[0][0]']                     \n",
      "                                                                                                  \n",
      " h2 (Dense)                     (None, 512)          66048       ['batch1[0][0]']                 \n",
      "                                                                                                  \n",
      " select_z_mean (Lambda)         (None, 256)          0           ['h2[0][0]']                     \n",
      "                                                                                                  \n",
      " select_z_var (Lambda)          (None, 256)          0           ['h2[0][0]']                     \n",
      "                                                                                                  \n",
      " z_mean (Dense)                 (None, 16)           4112        ['select_z_mean[0][0]']          \n",
      "                                                                                                  \n",
      " z_log_var (Dense)              (None, 16)           4112        ['select_z_var[0][0]']           \n",
      "                                                                                                  \n",
      " Sampling (Sampling)            (None, 16)           0           ['z_mean[0][0]',                 \n",
      "                                                                  'z_log_var[0][0]']              \n",
      "                                                                                                  \n",
      "==================================================================================================\n",
      "Total params: 78,880\n",
      "Trainable params: 78,624\n",
      "Non-trainable params: 256\n",
      "__________________________________________________________________________________________________\n"
     ]
    }
   ],
   "source": [
    "latent_dim = 16\n",
    "encoder_inputs = Input(shape=(31), name=\"input_layer\")\n",
    "\n",
    "n_x1 = 128\n",
    "x = Dense(n_x1, activation=\"relu\", name=\"h1\")(encoder_inputs)\n",
    "x = BatchNormalization(name=\"batch1\")(x)\n",
    "n_x2 = 512\n",
    "x = Dense(n_x2, activation=\"relu\", name=\"h2\")(x)\n",
    "\n",
    "# Split x3 into two halves\n",
    "half_size = n_x2 // 2\n",
    "x1_first_half = Lambda(lambda x: x[:, :half_size], name=\"select_z_mean\")(x)\n",
    "x1_second_half = Lambda(lambda x: x[:, half_size:], name=\"select_z_var\")(x)\n",
    "\n",
    "z_mean = Dense(latent_dim, name=\"z_mean\")(x1_first_half)\n",
    "z_log_var = Dense(latent_dim, name=\"z_log_var\")(x1_second_half)\n",
    "z = Sampling(name=\"Sampling\")([z_mean, z_log_var])\n",
    "\n",
    "encoder = keras.Model(encoder_inputs, [z_mean, z_log_var, z], name=\"encoder\")\n",
    "encoder.summary()"
   ]
  },
  {
   "cell_type": "code",
   "execution_count": 56,
   "metadata": {},
   "outputs": [
    {
     "data": {
      "image/png": "[encoded data removed]",
      "text/plain": [
       "<IPython.core.display.Image object>"
      ]
     },
     "execution_count": 56,
     "metadata": {},
     "output_type": "execute_result"
    }
   ],
   "source": [
    "keras.utils.plot_model(encoder, show_shapes=True)"
   ]
  },
  {
   "cell_type": "code",
   "execution_count": 57,
   "metadata": {},
   "outputs": [
    {
     "name": "stdout",
     "output_type": "stream",
     "text": [
      "Model: \"decoder\"\n",
      "__________________________________________________________________________________________________\n",
      " Layer (type)                   Output Shape         Param #     Connected to                     \n",
      "==================================================================================================\n",
      " input_5 (InputLayer)           [(None, 16)]         0           []                               \n",
      "                                                                                                  \n",
      " h4 (Dense)                     (None, 512)          8704        ['input_5[0][0]']                \n",
      "                                                                                                  \n",
      " batch1 (BatchNormalization)    (None, 512)          2048        ['h4[0][0]']                     \n",
      "                                                                                                  \n",
      " h5 (Dense)                     (None, 128)          65664       ['batch1[0][0]']                 \n",
      "                                                                                                  \n",
      " cont_decoder_output (Dense)    (None, 30)           3870        ['h5[0][0]']                     \n",
      "                                                                                                  \n",
      " classification_output (Dense)  (None, 1)            129         ['h5[0][0]']                     \n",
      "                                                                                                  \n",
      "==================================================================================================\n",
      "Total params: 80,415\n",
      "Trainable params: 79,391\n",
      "Non-trainable params: 1,024\n",
      "__________________________________________________________________________________________________\n"
     ]
    }
   ],
   "source": [
    "# Decoder\n",
    "latent_inputs = keras.Input(shape=(latent_dim,))\n",
    "n_x3 = 512\n",
    "x = Dense(n_x3, activation=\"relu\", name=\"h4\")(latent_inputs)\n",
    "x = BatchNormalization(name=\"batch1\")(x)\n",
    "n_x4 = 128\n",
    "x = Dense(n_x4, activation=\"relu\", name=\"h5\")(x)\n",
    "cont_decoder_outputs = Dense(30, activation = 'linear', name=\"cont_decoder_output\")(x)\n",
    "class_decoder_output = Dense(1, activation=\"sigmoid\", name=\"classification_output\")(x)\n",
    "decoder = keras.Model(latent_inputs, [cont_decoder_outputs, class_decoder_output], name=\"decoder\")\n",
    "decoder.summary()"
   ]
  },
  {
   "cell_type": "code",
   "execution_count": 58,
   "metadata": {},
   "outputs": [],
   "source": [
    "class VAE(keras.Model):\n",
    "    def __init__(self, encoder, decoder, **kwargs):\n",
    "        super().__init__(**kwargs)\n",
    "        self.encoder = encoder\n",
    "        self.decoder = decoder\n",
    "        self.total_loss_tracker = keras.metrics.Mean(name=\"total_loss\")\n",
    "        self.reconstruction_loss_tracker = keras.metrics.Mean(\n",
    "            name=\"reconstruction_loss\"\n",
    "        )\n",
    "        self.kl_loss_tracker = keras.metrics.Mean(name=\"kl_loss\")\n",
    "        self.reconstruction_loss_class_tracker = keras.metrics.Mean(\n",
    "            name=\"reconstruction_loss_class\"\n",
    "        )\n",
    "        self.mean_abs_diff_cont_tracker = keras.metrics.Mean(name='mean_abs_diff_cont')\n",
    "        self.mean_abs_diff_class_tracker = keras.metrics.Mean(name='mean_abs_diff_class')\n",
    "        self.mean_binary_tracker = keras.metrics.Mean(name=\"mean_binary_value\")\n",
    "        self.kl_div_tracker = keras.metrics.Mean(name='kl_divergence')\n",
    "\n",
    "    def get_config(self):\n",
    "        config = super(VAE, self).get_config()\n",
    "        config.update(\n",
    "            {\n",
    "                \"encoder\": self.encoder,\n",
    "                \"decoder\": self.decoder,\n",
    "            }\n",
    "        )\n",
    "        return config\n",
    "\n",
    "    @property\n",
    "    def metrics(self):\n",
    "        return [\n",
    "            self.total_loss_tracker,\n",
    "            self.reconstruction_loss_tracker,\n",
    "            self.kl_loss_tracker,\n",
    "            self.reconstruction_loss_class_tracker,\n",
    "\n",
    "        ]\n",
    "\n",
    "    def call(self, inputs):\n",
    "        return self.decoder(self.encoder(inputs)[2])\n",
    "\n",
    "    def train_step(self, data):\n",
    "        with tf.GradientTape() as tape:\n",
    "            z_mean, z_log_var, z = self.encoder(data)\n",
    "\n",
    "            reconstruction_cont, reconstruction_class = self.decoder(z)\n",
    "            # latent_vectors = np.random.normal(scale=1, size=(32, latent_dim))\n",
    "            # reconstruction_cont, reconstruction_class = self.decoder(latent_vectors)\n",
    "\n",
    "            data_cont = data[:, :30]  \n",
    "            data_class = data[:, 30:]  # Assuming the last column is for classification\n",
    "\n",
    "            # Reconstruction loss for continuous outputs\n",
    "            reconstruction_loss_cont = keras.losses.mean_squared_error(\n",
    "                data_cont, reconstruction_cont\n",
    "            )\n",
    "\n",
    "            # Reconstruction loss for classification output\n",
    "            reconstruction_loss_class = keras.losses.binary_crossentropy(\n",
    "                data_class, reconstruction_class\n",
    "            )\n",
    "\n",
    "            kl_loss = -0.5 * (1 + z_log_var - tf.square(z_mean) - tf.exp(z_log_var))\n",
    "            kl_loss = tf.reduce_mean(kl_loss, axis=1)\n",
    "\n",
    "            # Compute the KL Div between original data and reconstructed\n",
    "            kl_div = tf.keras.losses.KLDivergence()(data_cont, reconstruction_cont)\n",
    "\n",
    "            # Combine losses\n",
    "            total_loss = (\n",
    "                reconstruction_loss_cont + reconstruction_loss_class + kl_loss\n",
    "            )\n",
    "\n",
    "        grads = tape.gradient(total_loss, self.trainable_weights)\n",
    "        self.optimizer.apply_gradients(zip(grads, self.trainable_weights))\n",
    "        self.total_loss_tracker.update_state(total_loss)\n",
    "        self.reconstruction_loss_tracker.update_state(reconstruction_loss_cont)\n",
    "        self.kl_loss_tracker.update_state(kl_loss)\n",
    "        self.reconstruction_loss_class_tracker.update_state(reconstruction_loss_class)\n",
    "        self.kl_div_tracker.update_state(kl_div)\n",
    "\n",
    "        return {\n",
    "            \"loss\": self.total_loss_tracker.result(),\n",
    "            \"reconstruction_loss_cont\": self.reconstruction_loss_tracker.result(),\n",
    "            \"reconstruction_loss_class\": self.reconstruction_loss_class_tracker.result(),\n",
    "            \"kl_loss\": self.kl_loss_tracker.result(),\n",
    "            \"sparse_categorical_crossentropy\": self.reconstruction_loss_class_tracker.result(),\n",
    "            \"kl_div\": self.kl_div_tracker.result(),\n",
    "        }\n",
    "\n",
    "    def test_step(self, data):\n",
    "        \"\"\"Step run during validation.\"\"\"\n",
    "        if isinstance(data, tuple):\n",
    "            data = data[0]  # Unpack the tuple and take the input data\n",
    "\n",
    "        data_cont = data[:, :30]  # Assuming the first 4 columns are for continuous variables\n",
    "        data_class = data[:, 30:]  # Assuming the last column is for classification\n",
    "\n",
    "        z_mean, z_log_var, z = self.encoder(data)\n",
    "        # len_data = data.shape[0]\n",
    "\n",
    "        latent_vectors = np.random.normal(scale=1, size=(32, latent_dim))\n",
    "        reconstruction_cont, reconstruction_class = self.decoder(latent_vectors)\n",
    "\n",
    "        reconstruction_loss_cont = keras.losses.mean_squared_error(\n",
    "            data_cont, reconstruction_cont\n",
    "        )\n",
    "\n",
    "        # Reconstruction loss for classification output\n",
    "        reconstruction_loss_class = keras.losses.binary_crossentropy(\n",
    "            data_class, reconstruction_class\n",
    "        )\n",
    "\n",
    "        kl_loss = -0.5 * (\n",
    "            1 + z_log_var - tf.square(z_mean) - tf.exp(z_log_var)\n",
    "        )\n",
    "        kl_loss = tf.reduce_mean(kl_loss, axis=1)\n",
    "\n",
    "        # Combine losses\n",
    "        total_loss = (\n",
    "                reconstruction_loss_cont + reconstruction_loss_class + kl_loss\n",
    "            )\n",
    "\n",
    "        # Compute mean absolute differences and mean of binary data\n",
    "        mean_abs_diff_cont = tf.reduce_mean(tf.abs(data_cont - reconstruction_cont))\n",
    "        mean_abs_diff_class = tf.reduce_mean(tf.abs(data_class - reconstruction_class))\n",
    "        mean_binary_value = tf.reduce_mean(tf.cast(reconstruction_class >= 0.5, tf.float32))\n",
    "\n",
    "        # Compute the KL Div between original data and reconstructed\n",
    "        kl_div = tf.keras.losses.KLDivergence()(data_cont, reconstruction_cont)\n",
    "\n",
    "        # Update the loss tracker\n",
    "        self.total_loss_tracker.update_state(total_loss)\n",
    "\n",
    "        # Update other metrics\n",
    "        self.reconstruction_loss_tracker.update_state(reconstruction_loss_cont)\n",
    "        self.kl_loss_tracker.update_state(kl_loss)\n",
    "        self.reconstruction_loss_class_tracker.update_state(reconstruction_loss_class)\n",
    "        self.mean_abs_diff_cont_tracker.update_state(mean_abs_diff_cont)\n",
    "        self.mean_abs_diff_class_tracker.update_state(mean_abs_diff_class)\n",
    "        self.mean_binary_tracker.update_state(mean_binary_value)\n",
    "        self.kl_div_tracker.update_state(kl_div)\n",
    "\n",
    "        # Return a dict mapping metric names to current value\n",
    "        return {\n",
    "            \"loss\": self.total_loss_tracker.result(),\n",
    "            \"reconstruction_loss_cont\": self.reconstruction_loss_tracker.result(),\n",
    "            \"reconstruction_loss_class\": self.reconstruction_loss_class_tracker.result(),\n",
    "            \"kl_loss\": self.kl_loss_tracker.result(),\n",
    "            \"mean_abs_diff_cont\": self.mean_abs_diff_cont_tracker.result(),\n",
    "            \"mean_abs_diff_class\": self.mean_abs_diff_class_tracker.result(),\n",
    "            \"mean_binary_value\": self.mean_binary_tracker.result(),\n",
    "            \"kl_div\": self.kl_div_tracker.result(),\n",
    "        }"
   ]
  },
  {
   "cell_type": "code",
   "execution_count": 59,
   "metadata": {},
   "outputs": [],
   "source": [
    "vae = VAE(encoder, decoder)\n",
    "vae.compile(optimizer=keras.optimizers.Adam())"
   ]
  },
  {
   "cell_type": "code",
   "execution_count": 60,
   "metadata": {},
   "outputs": [
    {
     "name": "stdout",
     "output_type": "stream",
     "text": [
      "Epoch 1/20\n",
      "6231/6231 [==============================] - 20s 3ms/step - loss: 0.0213 - reconstruction_loss_cont: 0.0103 - reconstruction_loss_class: 0.0031 - kl_loss: 0.0023 - sparse_categorical_crossentropy: 0.0088 - kl_div: 1.3162 - val_loss: 0.0313 - val_reconstruction_loss_cont: 0.0048 - val_reconstruction_loss_class: 0.0251 - val_kl_loss: 0.0013 - val_mean_abs_diff_cont: 0.0397 - val_mean_abs_diff_class: 0.0015 - val_mean_binary_value: 0.0000e+00 - val_kl_div: 0.2997\n",
      "Epoch 2/20\n",
      "6231/6231 [==============================] - 18s 3ms/step - loss: 0.0084 - reconstruction_loss_cont: 0.0047 - reconstruction_loss_class: 8.5504e-04 - kl_loss: 0.0024 - sparse_categorical_crossentropy: 0.0011 - kl_div: 0.2651 - val_loss: 0.0321 - val_reconstruction_loss_cont: 0.0045 - val_reconstruction_loss_class: 0.0261 - val_kl_loss: 0.0014 - val_mean_abs_diff_cont: 0.0389 - val_mean_abs_diff_class: 0.0015 - val_mean_binary_value: 0.0000e+00 - val_kl_div: 0.2416\n",
      "Epoch 3/20\n",
      "6231/6231 [==============================] - 18s 3ms/step - loss: 0.0078 - reconstruction_loss_cont: 0.0045 - reconstruction_loss_class: 8.6276e-04 - kl_loss: 0.0022 - sparse_categorical_crossentropy: 8.7336e-04 - kl_div: 0.2290 - val_loss: 0.0294 - val_reconstruction_loss_cont: 0.0045 - val_reconstruction_loss_class: 0.0219 - val_kl_loss: 0.0030 - val_mean_abs_diff_cont: 0.0380 - val_mean_abs_diff_class: 0.0015 - val_mean_binary_value: 0.0000e+00 - val_kl_div: 0.2243\n",
      "Epoch 4/20\n",
      "6231/6231 [==============================] - 19s 3ms/step - loss: 0.0076 - reconstruction_loss_cont: 0.0044 - reconstruction_loss_class: 8.9987e-04 - kl_loss: 0.0022 - sparse_categorical_crossentropy: 9.5768e-04 - kl_div: 0.2166 - val_loss: 0.0286 - val_reconstruction_loss_cont: 0.0044 - val_reconstruction_loss_class: 0.0213 - val_kl_loss: 0.0029 - val_mean_abs_diff_cont: 0.0372 - val_mean_abs_diff_class: 0.0015 - val_mean_binary_value: 0.0000e+00 - val_kl_div: 0.2053\n",
      "Epoch 5/20\n",
      "6231/6231 [==============================] - 20s 3ms/step - loss: 0.0072 - reconstruction_loss_cont: 0.0043 - reconstruction_loss_class: 6.1628e-04 - kl_loss: 0.0021 - sparse_categorical_crossentropy: 6.6212e-04 - kl_div: 0.2008 - val_loss: 0.0254 - val_reconstruction_loss_cont: 0.0043 - val_reconstruction_loss_class: 0.0185 - val_kl_loss: 0.0026 - val_mean_abs_diff_cont: 0.0365 - val_mean_abs_diff_class: 0.0016 - val_mean_binary_value: 0.0000e+00 - val_kl_div: 0.1985\n",
      "Epoch 6/20\n",
      "6231/6231 [==============================] - 20s 3ms/step - loss: 0.0067 - reconstruction_loss_cont: 0.0043 - reconstruction_loss_class: 7.1661e-04 - kl_loss: 0.0021 - sparse_categorical_crossentropy: 6.2984e-04 - kl_div: 0.1952 - val_loss: 0.0298 - val_reconstruction_loss_cont: 0.0043 - val_reconstruction_loss_class: 0.0234 - val_kl_loss: 0.0020 - val_mean_abs_diff_cont: 0.0360 - val_mean_abs_diff_class: 0.0016 - val_mean_binary_value: 0.0000e+00 - val_kl_div: 0.1936\n",
      "Epoch 7/20\n",
      "6231/6231 [==============================] - 21s 3ms/step - loss: 0.0070 - reconstruction_loss_cont: 0.0043 - reconstruction_loss_class: 6.6818e-04 - kl_loss: 0.0021 - sparse_categorical_crossentropy: 6.6362e-04 - kl_div: 0.1909 - val_loss: 0.0328 - val_reconstruction_loss_cont: 0.0043 - val_reconstruction_loss_class: 0.0265 - val_kl_loss: 0.0020 - val_mean_abs_diff_cont: 0.0356 - val_mean_abs_diff_class: 0.0016 - val_mean_binary_value: 0.0000e+00 - val_kl_div: 0.1881\n",
      "Epoch 8/20\n",
      "6231/6231 [==============================] - 22s 4ms/step - loss: 0.0066 - reconstruction_loss_cont: 0.0042 - reconstruction_loss_class: 6.0208e-04 - kl_loss: 0.0021 - sparse_categorical_crossentropy: 4.8945e-04 - kl_div: 0.1860 - val_loss: 0.0291 - val_reconstruction_loss_cont: 0.0042 - val_reconstruction_loss_class: 0.0232 - val_kl_loss: 0.0016 - val_mean_abs_diff_cont: 0.0352 - val_mean_abs_diff_class: 0.0016 - val_mean_binary_value: 0.0000e+00 - val_kl_div: 0.1821\n",
      "Epoch 9/20\n",
      "6231/6231 [==============================] - 21s 3ms/step - loss: 0.0068 - reconstruction_loss_cont: 0.0042 - reconstruction_loss_class: 5.3220e-04 - kl_loss: 0.0022 - sparse_categorical_crossentropy: 5.1045e-04 - kl_div: 0.1804 - val_loss: 0.0286 - val_reconstruction_loss_cont: 0.0042 - val_reconstruction_loss_class: 0.0231 - val_kl_loss: 0.0013 - val_mean_abs_diff_cont: 0.0349 - val_mean_abs_diff_class: 0.0016 - val_mean_binary_value: 0.0000e+00 - val_kl_div: 0.1782\n",
      "Epoch 10/20\n",
      "6231/6231 [==============================] - 20s 3ms/step - loss: 0.0066 - reconstruction_loss_cont: 0.0042 - reconstruction_loss_class: 5.5017e-04 - kl_loss: 0.0021 - sparse_categorical_crossentropy: 4.8824e-04 - kl_div: 0.1769 - val_loss: 0.0335 - val_reconstruction_loss_cont: 0.0042 - val_reconstruction_loss_class: 0.0281 - val_kl_loss: 0.0012 - val_mean_abs_diff_cont: 0.0347 - val_mean_abs_diff_class: 0.0016 - val_mean_binary_value: 0.0000e+00 - val_kl_div: 0.1747\n",
      "Epoch 11/20\n",
      "6231/6231 [==============================] - 19s 3ms/step - loss: 0.0070 - reconstruction_loss_cont: 0.0042 - reconstruction_loss_class: 4.6370e-04 - kl_loss: 0.0021 - sparse_categorical_crossentropy: 5.2251e-04 - kl_div: 0.1736 - val_loss: 0.0353 - val_reconstruction_loss_cont: 0.0042 - val_reconstruction_loss_class: 0.0300 - val_kl_loss: 0.0012 - val_mean_abs_diff_cont: 0.0344 - val_mean_abs_diff_class: 0.0016 - val_mean_binary_value: 0.0000e+00 - val_kl_div: 0.1719\n",
      "Epoch 12/20\n",
      "6231/6231 [==============================] - 20s 3ms/step - loss: 0.0067 - reconstruction_loss_cont: 0.0042 - reconstruction_loss_class: 5.6483e-04 - kl_loss: 0.0020 - sparse_categorical_crossentropy: 5.2277e-04 - kl_div: 0.1709 - val_loss: 0.0320 - val_reconstruction_loss_cont: 0.0042 - val_reconstruction_loss_class: 0.0267 - val_kl_loss: 0.0011 - val_mean_abs_diff_cont: 0.0342 - val_mean_abs_diff_class: 0.0016 - val_mean_binary_value: 0.0000e+00 - val_kl_div: 0.1698\n",
      "Epoch 13/20\n",
      "6231/6231 [==============================] - 19s 3ms/step - loss: 0.0067 - reconstruction_loss_cont: 0.0042 - reconstruction_loss_class: 3.6483e-04 - kl_loss: 0.0021 - sparse_categorical_crossentropy: 4.3213e-04 - kl_div: 0.1690 - val_loss: 0.0325 - val_reconstruction_loss_cont: 0.0042 - val_reconstruction_loss_class: 0.0264 - val_kl_loss: 0.0020 - val_mean_abs_diff_cont: 0.0341 - val_mean_abs_diff_class: 0.0016 - val_mean_binary_value: 0.0000e+00 - val_kl_div: 0.1680\n",
      "Epoch 14/20\n",
      "6231/6231 [==============================] - 19s 3ms/step - loss: 0.0066 - reconstruction_loss_cont: 0.0042 - reconstruction_loss_class: 5.4141e-04 - kl_loss: 0.0019 - sparse_categorical_crossentropy: 4.8506e-04 - kl_div: 0.1673 - val_loss: 0.0318 - val_reconstruction_loss_cont: 0.0042 - val_reconstruction_loss_class: 0.0257 - val_kl_loss: 0.0019 - val_mean_abs_diff_cont: 0.0339 - val_mean_abs_diff_class: 0.0016 - val_mean_binary_value: 0.0000e+00 - val_kl_div: 0.1660\n",
      "Epoch 15/20\n",
      "6231/6231 [==============================] - 19s 3ms/step - loss: 0.0066 - reconstruction_loss_cont: 0.0042 - reconstruction_loss_class: 4.9883e-04 - kl_loss: 0.0020 - sparse_categorical_crossentropy: 4.6434e-04 - kl_div: 0.1654 - val_loss: 0.0395 - val_reconstruction_loss_cont: 0.0042 - val_reconstruction_loss_class: 0.0336 - val_kl_loss: 0.0017 - val_mean_abs_diff_cont: 0.0338 - val_mean_abs_diff_class: 0.0016 - val_mean_binary_value: 0.0000e+00 - val_kl_div: 0.1647\n",
      "Epoch 16/20\n",
      "6231/6231 [==============================] - 20s 3ms/step - loss: 0.0067 - reconstruction_loss_cont: 0.0042 - reconstruction_loss_class: 3.8253e-04 - kl_loss: 0.0020 - sparse_categorical_crossentropy: 3.8095e-04 - kl_div: 0.1642 - val_loss: 0.0318 - val_reconstruction_loss_cont: 0.0042 - val_reconstruction_loss_class: 0.0259 - val_kl_loss: 0.0017 - val_mean_abs_diff_cont: 0.0337 - val_mean_abs_diff_class: 0.0016 - val_mean_binary_value: 0.0000e+00 - val_kl_div: 0.1636\n",
      "Epoch 17/20\n",
      "6231/6231 [==============================] - 20s 3ms/step - loss: 0.0065 - reconstruction_loss_cont: 0.0042 - reconstruction_loss_class: 3.2158e-04 - kl_loss: 0.0020 - sparse_categorical_crossentropy: 3.4549e-04 - kl_div: 0.1631 - val_loss: 0.0375 - val_reconstruction_loss_cont: 0.0042 - val_reconstruction_loss_class: 0.0320 - val_kl_loss: 0.0013 - val_mean_abs_diff_cont: 0.0336 - val_mean_abs_diff_class: 0.0016 - val_mean_binary_value: 0.0000e+00 - val_kl_div: 0.1625\n",
      "Epoch 18/20\n",
      "6231/6231 [==============================] - 20s 3ms/step - loss: 0.0066 - reconstruction_loss_cont: 0.0042 - reconstruction_loss_class: 4.1327e-04 - kl_loss: 0.0019 - sparse_categorical_crossentropy: 4.4779e-04 - kl_div: 0.1621 - val_loss: 0.0386 - val_reconstruction_loss_cont: 0.0042 - val_reconstruction_loss_class: 0.0318 - val_kl_loss: 0.0027 - val_mean_abs_diff_cont: 0.0335 - val_mean_abs_diff_class: 0.0016 - val_mean_binary_value: 0.0000e+00 - val_kl_div: 0.1614\n",
      "Epoch 19/20\n",
      "6231/6231 [==============================] - 20s 3ms/step - loss: 0.0065 - reconstruction_loss_cont: 0.0042 - reconstruction_loss_class: 3.4558e-04 - kl_loss: 0.0020 - sparse_categorical_crossentropy: 3.2333e-04 - kl_div: 0.1610 - val_loss: 0.0340 - val_reconstruction_loss_cont: 0.0042 - val_reconstruction_loss_class: 0.0284 - val_kl_loss: 0.0015 - val_mean_abs_diff_cont: 0.0335 - val_mean_abs_diff_class: 0.0016 - val_mean_binary_value: 0.0000e+00 - val_kl_div: 0.1605\n",
      "Epoch 20/20\n",
      "6231/6231 [==============================] - 19s 3ms/step - loss: 0.0076 - reconstruction_loss_cont: 0.0042 - reconstruction_loss_class: 5.2892e-04 - kl_loss: 0.0022 - sparse_categorical_crossentropy: 7.7064e-04 - kl_div: 0.1602 - val_loss: 0.0313 - val_reconstruction_loss_cont: 0.0042 - val_reconstruction_loss_class: 0.0258 - val_kl_loss: 0.0013 - val_mean_abs_diff_cont: 0.0334 - val_mean_abs_diff_class: 0.0016 - val_mean_binary_value: 0.0000e+00 - val_kl_div: 0.1598\n"
     ]
    }
   ],
   "source": [
    "early_stopping_callback = EarlyStopping(\n",
    "    monitor='val_loss',  # Monitoring validation loss\n",
    "    patience=5,  # Number of epochs with no improvement after which training will be stopped\n",
    "    restore_best_weights=True  # Restore weights to the best model observed during training\n",
    ")\n",
    "\n",
    "# Define the directory to save the model\n",
    "model_dir = \"saved_model/\"\n",
    "\n",
    "# Define a TensorBoard callback for training logs\n",
    "tensorboard_callback = TensorBoard(log_dir=\"logs/vae_optimized_263\")\n",
    "\n",
    "# # Define a ModelCheckpoint callback to save the model\n",
    "# checkpoint_callback = ModelCheckpoint(\n",
    "#     filepath=model_dir, save_best_only=True, monitor=\"val_loss\", mode=\"min\"\n",
    "# )\n",
    "#tensorboard_callback\n",
    "call_back_list = [early_stopping_callback]\n",
    "\n",
    "hist = vae.fit(\n",
    "    train_data_array,\n",
    "    epochs=20,\n",
    "    batch_size=32,\n",
    "    validation_data=(val_data_array, None), \n",
    "    # callbacks=call_back_list,\n",
    ")"
   ]
  },
  {
   "cell_type": "markdown",
   "metadata": {},
   "source": [
    "# Synth Data Creation"
   ]
  },
  {
   "cell_type": "code",
   "execution_count": 61,
   "metadata": {},
   "outputs": [
    {
     "name": "stdout",
     "output_type": "stream",
     "text": [
      "1781/1781 [==============================] - 2s 1ms/step\n"
     ]
    }
   ],
   "source": [
    "# synth Data from Data random sample\n",
    "latent_vectors = np.random.normal(scale=1, size=(len(test_data_array), latent_dim))\n",
    "generated_data_cont_from_sample, generated_data_class_from_sample = vae.decoder.predict(latent_vectors)"
   ]
  },
  {
   "cell_type": "markdown",
   "metadata": {},
   "source": [
    "Saving the synth data from sample"
   ]
  },
  {
   "cell_type": "code",
   "execution_count": 62,
   "metadata": {},
   "outputs": [
    {
     "name": "stdout",
     "output_type": "stream",
     "text": [
      "[5]\n"
     ]
    }
   ],
   "source": [
    "binary_predictions_from_sample = (generated_data_class_from_sample >= 0.5).astype(int)\n",
    "print(sum(binary_predictions_from_sample))\n",
    "\n",
    "# Create DataFrame with synthetic data\n",
    "synthetic_data_from_sample = pd.DataFrame(\n",
    "    generated_data_cont_from_sample, columns=train_data.columns[:-1]\n",
    ")\n",
    "# Add binary_predictions as an additional column\n",
    "synthetic_data_from_sample[\"Class\"] = binary_predictions_from_sample\n",
    "synthetic_data_from_sample.to_csv(\"../data/interim/synthdata_from_sample.csv\", index=False)"
   ]
  },
  {
   "cell_type": "code",
   "execution_count": 63,
   "metadata": {},
   "outputs": [],
   "source": [
    "# call_for_saving = vae(train_data_array[:1])\n",
    "# vae.save(\"../models/VAE/optimized_for_sample\", save_format=\"tf\")"
   ]
  },
  {
   "cell_type": "code",
   "execution_count": 64,
   "metadata": {},
   "outputs": [
    {
     "data": {
      "image/png": "[encoded data removed]",
      "text/plain": [
       "<Figure size 640x480 with 1 Axes>"
      ]
     },
     "metadata": {},
     "output_type": "display_data"
    }
   ],
   "source": [
    "# Assuming iris_array is the NumPy array you obtained from the Pandas DataFrame\n",
    "colum_num = 16\n",
    "original_column = train_data_array[:, colum_num]\n",
    "\n",
    "synth_column = generated_data_cont_from_sample[:, colum_num]\n",
    "\n",
    "# Calculate the percentage for original_column\n",
    "total_points_original = len(original_column)\n",
    "percentage_original = (original_column / total_points_original) * 100\n",
    "\n",
    "# Calculate the percentage for synth_column\n",
    "total_points_synth = len(synth_column)\n",
    "percentage_synth = (synth_column / total_points_synth) * 100\n",
    "\n",
    "# Plot histograms\n",
    "plt.hist(\n",
    "    original_column,\n",
    "    bins=25,\n",
    "    color=\"g\",\n",
    "    alpha=0.6,\n",
    "    weights=np.ones_like(original_column) / total_points_original * 100,\n",
    "    label=\"Original Data\",\n",
    ")\n",
    "\n",
    "plt.hist(\n",
    "    synth_column,\n",
    "    bins=25,\n",
    "    color=\"b\",\n",
    "    alpha=0.6,\n",
    "    weights=np.ones_like(synth_column) / total_points_synth * 100,\n",
    "    label=\"Synthetic Data\",\n",
    ")\n",
    "\n",
    "plt.title(\"Histogram of Original and Synthetic Data\")\n",
    "plt.xlabel(\"Values\")\n",
    "plt.ylabel(\"Percentage\")\n",
    "plt.legend()\n",
    "\n",
    "plt.show()"
   ]
  },
  {
   "cell_type": "code",
   "execution_count": 65,
   "metadata": {},
   "outputs": [
    {
     "ename": "NameError",
     "evalue": "name 'df_credit' is not defined",
     "output_type": "error",
     "traceback": [
      "\u001b[1;31m---------------------------------------------------------------------------\u001b[0m",
      "\u001b[1;31mNameError\u001b[0m                                 Traceback (most recent call last)",
      "Cell \u001b[1;32mIn[65], line 2\u001b[0m\n\u001b[0;32m      1\u001b[0m \u001b[38;5;66;03m# For each feature, create a histogram for the real and synthetic data\u001b[39;00m\n\u001b[1;32m----> 2\u001b[0m \u001b[38;5;28;01mfor\u001b[39;00m feature \u001b[38;5;129;01min\u001b[39;00m \u001b[43mdf_credit\u001b[49m\u001b[38;5;241m.\u001b[39mcolumns[:\u001b[38;5;241m-\u001b[39m\u001b[38;5;241m1\u001b[39m]:\n\u001b[0;32m      5\u001b[0m     plt\u001b[38;5;241m.\u001b[39mfigure(figsize\u001b[38;5;241m=\u001b[39m(\u001b[38;5;241m10\u001b[39m, \u001b[38;5;241m5\u001b[39m))\n\u001b[0;32m      7\u001b[0m     plt\u001b[38;5;241m.\u001b[39msubplot(\u001b[38;5;241m1\u001b[39m, \u001b[38;5;241m2\u001b[39m, \u001b[38;5;241m1\u001b[39m)\n",
      "\u001b[1;31mNameError\u001b[0m: name 'df_credit' is not defined"
     ]
    }
   ],
   "source": [
    "# For each feature, create a histogram for the real and synthetic data\n",
    "for feature in df_credit.columns[:-1]:\n",
    "    \n",
    "    \n",
    "    plt.figure(figsize=(10, 5))\n",
    "\n",
    "    plt.subplot(1, 2, 1)\n",
    "    plt.hist(real_data[feature], bins=20, alpha=0.5, color=\"g\", label=\"Real\")\n",
    "    plt.title(f\"Real Data: {feature}\")\n",
    "    plt.legend()\n",
    "\n",
    "    plt.subplot(1, 2, 2)\n",
    "    plt.hist(synthetic_data[feature], bins=20, alpha=0.5, color=\"b\", label=\"Synthetic\")\n",
    "    plt.title(f\"Synthetic Data: {feature}\")\n",
    "    plt.legend()\n",
    "\n",
    "    plt.show()\n",
    "\n",
    "# Print the summary statistics for the real and synthetic data\n",
    "print(\"Summary statistics for the real data:\")\n",
    "print(real_data.describe())\n",
    "print(\"\\nSummary statistics for the synthetic data:\")\n",
    "print(synthetic_data.describe())\n",
    "\n",
    "plt.show()"
   ]
  },
  {
   "cell_type": "code",
   "execution_count": null,
   "metadata": {},
   "outputs": [
    {
     "name": "stdout",
     "output_type": "stream",
     "text": [
      "Training Accuracy: 0.9998745987158909\n",
      "Testing Accuracy: 0.9996488764044944\n"
     ]
    }
   ],
   "source": [
    "import pandas as pd\n",
    "from sklearn.model_selection import train_test_split\n",
    "from sklearn.metrics import confusion_matrix\n",
    "from sklearn.ensemble import RandomForestClassifier\n",
    "from sklearn.metrics import accuracy_score\n",
    "\n",
    "\n",
    "\n",
    "\n",
    "# Assuming the target variable is in the last column\n",
    "X_train = train_data[:, :-1]  # Features for training\n",
    "y_train = train_data[:, -1]  # Target variable for training\n",
    "\n",
    "X_test = test_data[:, :-1]  # Features for testing\n",
    "y_test = test_data[:, -1]  # Target variable for testing\n",
    "\n",
    "\n",
    "# Step 3: Instantiate the model\n",
    "random_forest = RandomForestClassifier(n_estimators=100, max_depth=10, random_state=42)\n",
    "\n",
    "# Step 4: Train the model\n",
    "random_forest.fit(X_train, y_train)\n",
    "\n",
    "# Step 5: Evaluate the model\n",
    "train_accuracy = accuracy_score(y_train, random_forest.predict(X_train))\n",
    "test_accuracy = accuracy_score(y_test, random_forest.predict(X_test))\n",
    "\n",
    "print(\"Training Accuracy:\", train_accuracy)\n",
    "print(\"Testing Accuracy:\", test_accuracy)"
   ]
  },
  {
   "cell_type": "code",
   "execution_count": null,
   "metadata": {},
   "outputs": [
    {
     "name": "stdout",
     "output_type": "stream",
     "text": [
      "Accuracy: 0.9990344440153085\n",
      "Confusion Matrix:\n",
      "[[56849    44]\n",
      " [   11    58]]\n"
     ]
    }
   ],
   "source": [
    "from sklearn.metrics import accuracy_score, confusion_matrix\n",
    "\n",
    "# Get predictions from the random forest model\n",
    "predictions = random_forest.predict(generated_data_cont)\n",
    "\n",
    "# Compute accuracy score\n",
    "accuracy = accuracy_score(binary_predictions, predictions)\n",
    "print(\"Accuracy:\", accuracy)\n",
    "\n",
    "# Compute confusion matrix\n",
    "cm = confusion_matrix(\n",
    "    predictions, binary_predictions\n",
    ")\n",
    "\n",
    "print(\"Confusion Matrix:\")\n",
    "print(cm)"
   ]
  }
 ],
 "metadata": {
  "kernelspec": {
   "display_name": "var_auto",
   "language": "python",
   "name": "python3"
  },
  "language_info": {
   "codemirror_mode": {
    "name": "ipython",
    "version": 3
   },
   "file_extension": ".py",
   "mimetype": "text/x-python",
   "name": "python",
   "nbconvert_exporter": "python",
   "pygments_lexer": "ipython3",
   "version": "3.10.13"
  }
 },
 "nbformat": 4,
 "nbformat_minor": 2
}
