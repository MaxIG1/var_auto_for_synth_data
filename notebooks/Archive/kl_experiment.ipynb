{
 "cells": [
  {
   "cell_type": "code",
   "execution_count": 44,
   "metadata": {},
   "outputs": [
    {
     "name": "stdout",
     "output_type": "stream",
     "text": [
      "   Variable1  Variable2\n",
      "0   0.526922   0.707548\n",
      "1   0.437412   0.630150\n",
      "2   0.548204   0.489121\n",
      "3   0.671595   0.373922\n",
      "4   0.423895   0.593236\n"
     ]
    }
   ],
   "source": [
    "import pandas as pd\n",
    "import numpy as np\n",
    "from sklearn.preprocessing import MinMaxScaler\n",
    "from scipy.special import rel_entr\n",
    "\n",
    "# Set random seed for reproducibility\n",
    "np.random.seed(42)\n",
    "\n",
    "# Create DataFrame with normally distributed variables\n",
    "data = {\n",
    "    \"Variable1\": np.random.normal(loc=0, scale=1, size=1000),\n",
    "    \"Variable2\": np.random.normal(loc=0, scale=1, size=1000),\n",
    "}\n",
    "\n",
    "df = pd.DataFrame(data)\n",
    "\n",
    "# Normalize columns between 0 and 1 using MinMaxScaler\n",
    "scaler = MinMaxScaler()\n",
    "df_normalized = scaler.fit_transform(df)\n",
    "\n",
    "# Create DataFrame with normalized data\n",
    "df_normalized = pd.DataFrame(df_normalized, columns=df.columns)\n",
    "\n",
    "print(df_normalized.head())"
   ]
  },
  {
   "cell_type": "code",
   "execution_count": 41,
   "metadata": {},
   "outputs": [],
   "source": [
    "train_data = pd.read_csv(\"../data/interim/split/sorted_train_data_mm.csv\")\n",
    "test_data = pd.read_csv(\"../data/interim/split/sorted_test_data_mm.csv\")"
   ]
  },
  {
   "cell_type": "code",
   "execution_count": 58,
   "metadata": {},
   "outputs": [],
   "source": [
    "hist_dict_train = {}\n",
    "for column in train_data.columns:\n",
    "    hist, bins = np.histogram(train_data[column], bins=20)\n",
    "    hist = hist / sum(hist)\n",
    "    hist = np.where(hist == 0, 0.00001, hist)\n",
    "    hist_dict_train[column] = hist"
   ]
  },
  {
   "cell_type": "code",
   "execution_count": 59,
   "metadata": {},
   "outputs": [],
   "source": [
    "hist_dict_test = {}\n",
    "for column in test_data.columns:\n",
    "    hist, bins = np.histogram(test_data[column], bins=20)\n",
    "    hist = np.where(hist == 0, 0.00001, hist)\n",
    "    hist_dict_test[column] = hist"
   ]
  },
  {
   "cell_type": "code",
   "execution_count": 60,
   "metadata": {},
   "outputs": [
    {
     "name": "stdout",
     "output_type": "stream",
     "text": [
      "-10.9499829315508\n",
      "-10.869893832393771\n",
      "-6.668861698243033\n",
      "5.350955502413088\n",
      "-10.624553743095264\n",
      "-2.2099266130428865\n",
      "-2.6354371502419873\n",
      "-2.269041518127853\n",
      "-4.772668396741085\n",
      "-8.641298505533666\n",
      "-6.2888410257330944\n",
      "-10.856372531804183\n",
      "-8.619400361434032\n",
      "-10.785569984752476\n",
      "-9.65197049255096\n",
      "-10.134624159382968\n",
      "-5.572296230073128\n",
      "-10.558109461018471\n",
      "-10.792068711401349\n",
      "-10.66751612512717\n",
      "-10.918080643014221\n",
      "-4.198612727127683\n",
      "-10.90564250413743\n",
      "-5.0985058716417795\n",
      "-10.791883642323478\n",
      "-10.872606913677728\n",
      "-10.855073188914199\n",
      "11.317298203565873\n",
      "-4.108609995983\n",
      "-10.93478778716945\n",
      "-10.950130938067481\n"
     ]
    }
   ],
   "source": [
    "for key in hist_dict_test:\n",
    "    print(sum(rel_entr(hist_dict_train[key], hist_dict_test[key])))"
   ]
  },
  {
   "cell_type": "code",
   "execution_count": 12,
   "metadata": {},
   "outputs": [
    {
     "data": {
      "text/plain": [
       "0.45814306"
      ]
     },
     "execution_count": 12,
     "metadata": {},
     "output_type": "execute_result"
    }
   ],
   "source": [
    "import tensorflow as tf\n",
    "\n",
    "y_true = [[0, 1], [0, 0]]\n",
    "y_pred = [[0.6, 0.4], [0.4, 0.6]]\n",
    "# Using 'auto'/'sum_over_batch_size' reduction type.\n",
    "kl = tf.keras.losses.KLDivergence()\n",
    "kl(y_true, y_pred).numpy()\n"
   ]
  },
  {
   "cell_type": "code",
   "execution_count": 15,
   "metadata": {},
   "outputs": [
    {
     "data": {
      "text/plain": [
       "3"
      ]
     },
     "execution_count": 15,
     "metadata": {},
     "output_type": "execute_result"
    }
   ],
   "source": [
    "reconstruction_cont = tf.constant([[1.0, 0.0, 2.0], [0.0, 3.0, 0.0], [4.0, 0.0, 5.0]])\n",
    "\n",
    "reconstruction_cont.shape[0]"
   ]
  },
  {
   "cell_type": "code",
   "execution_count": 62,
   "metadata": {},
   "outputs": [],
   "source": [
    "reconstruction_cont = tf.constant([[1.0, 0.0, 2.0], [0.0, 3.0, 0.0], [4.0, 0.0, 5.0]])\n",
    "\n",
    "# Replace zeros with 0.0000001 in the tensor\n",
    "reconstruction_cont = tf.where(\n",
    "    tf.equal(reconstruction_cont, 0),\n",
    "    tf.ones_like(reconstruction_cont) * 0.0000001,\n",
    "    reconstruction_cont,\n",
    ")"
   ]
  },
  {
   "cell_type": "code",
   "execution_count": 63,
   "metadata": {},
   "outputs": [
    {
     "data": {
      "text/plain": [
       "<tf.Tensor: shape=(3, 3), dtype=float32, numpy=\n",
       "array([[1.e+00, 1.e-07, 2.e+00],\n",
       "       [1.e-07, 3.e+00, 1.e-07],\n",
       "       [4.e+00, 1.e-07, 5.e+00]], dtype=float32)>"
      ]
     },
     "execution_count": 63,
     "metadata": {},
     "output_type": "execute_result"
    }
   ],
   "source": [
    "reconstruction_cont"
   ]
  },
  {
   "cell_type": "code",
   "execution_count": 49,
   "metadata": {},
   "outputs": [
    {
     "data": {
      "text/plain": [
       "inf"
      ]
     },
     "execution_count": 49,
     "metadata": {},
     "output_type": "execute_result"
    }
   ],
   "source": [
    "\n",
    "\n",
    "# calculate (P || Q)\n",
    "sum(rel_entr([0.5, 0.5, 0], [0, 0.7, 0.3]))"
   ]
  }
 ],
 "metadata": {
  "kernelspec": {
   "display_name": "var_auto",
   "language": "python",
   "name": "python3"
  },
  "language_info": {
   "codemirror_mode": {
    "name": "ipython",
    "version": 3
   },
   "file_extension": ".py",
   "mimetype": "text/x-python",
   "name": "python",
   "nbconvert_exporter": "python",
   "pygments_lexer": "ipython3",
   "version": "3.10.13"
  }
 },
 "nbformat": 4,
 "nbformat_minor": 2
}
