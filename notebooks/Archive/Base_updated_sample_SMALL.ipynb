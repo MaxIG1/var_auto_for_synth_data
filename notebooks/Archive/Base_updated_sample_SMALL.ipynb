{
 "cells": [
  {
   "cell_type": "code",
   "execution_count": 52,
   "metadata": {},
   "outputs": [],
   "source": [
    "import numpy as np\n",
    "from tensorflow import keras\n",
    "from keras.layers import Input, Dense, Lambda, BatchNormalization\n",
    "import tensorflow as tf\n",
    "import pandas as pd\n",
    "import matplotlib.pyplot as plt\n",
    "from keras import backend as K\n",
    "from sklearn.model_selection import train_test_split\n",
    "import pandas as pd\n",
    "import matplotlib.pyplot as plt\n",
    "from sklearn import datasets\n",
    "from tensorflow.keras.callbacks import TensorBoard, ModelCheckpoint, EarlyStopping\n",
    "from tensorflow.keras.models import load_model\n",
    "from tensorflow.keras.models import save_model\n",
    "from scipy.special import rel_entr\n"
   ]
  },
  {
   "cell_type": "code",
   "execution_count": 53,
   "metadata": {},
   "outputs": [],
   "source": [
    "train_data = pd.read_csv(\"../data/interim/split/z_sorted_train_data_mm.csv\",)\n",
    "test_data = pd.read_csv(\"../data/interim/split/z_sorted_test_data_mm.csv\")\n",
    "val_data = pd.read_csv(\"../data/interim/split/z_sorted_val_data_mm.csv\")\n",
    "\n"
   ]
  },
  {
   "cell_type": "code",
   "execution_count": 54,
   "metadata": {},
   "outputs": [],
   "source": [
    "train_data_array = train_data.values\n",
    "test_data_array = test_data.values\n",
    "val_data_array = val_data.values"
   ]
  },
  {
   "cell_type": "code",
   "execution_count": 55,
   "metadata": {},
   "outputs": [],
   "source": [
    "class Sampling(keras.layers.Layer):\n",
    "    def call(self, inputs):\n",
    "        z_mean, z_log_var = inputs\n",
    "        batch = tf.shape(z_mean)[0]\n",
    "        dim = tf.shape(z_mean)[1]\n",
    "        # epsilon = gumbel_sample((batch, dim))\n",
    "        epsilon = tf.keras.backend.random_normal(shape=(batch, dim))\n",
    "        return z_mean + tf.exp(0.5 * z_log_var) * epsilon\n",
    "\n",
    "    def get_config(self):\n",
    "        return {}\n",
    "\n",
    "    @classmethod\n",
    "    def from_config(cls, config):\n",
    "        return cls()"
   ]
  },
  {
   "cell_type": "code",
   "execution_count": 56,
   "metadata": {},
   "outputs": [
    {
     "name": "stdout",
     "output_type": "stream",
     "text": [
      "Model: \"encoder\"\n",
      "__________________________________________________________________________________________________\n",
      " Layer (type)                   Output Shape         Param #     Connected to                     \n",
      "==================================================================================================\n",
      " input_layer (InputLayer)       [(None, 31)]         0           []                               \n",
      "                                                                                                  \n",
      " h1 (Dense)                     (None, 512)          16384       ['input_layer[0][0]']            \n",
      "                                                                                                  \n",
      " batch1 (BatchNormalization)    (None, 512)          2048        ['h1[0][0]']                     \n",
      "                                                                                                  \n",
      " h2 (Dense)                     (None, 256)          131328      ['batch1[0][0]']                 \n",
      "                                                                                                  \n",
      " select_z_mean (Lambda)         (None, 128)          0           ['h2[0][0]']                     \n",
      "                                                                                                  \n",
      " select_z_var (Lambda)          (None, 128)          0           ['h2[0][0]']                     \n",
      "                                                                                                  \n",
      " z_mean (Dense)                 (None, 64)           8256        ['select_z_mean[0][0]']          \n",
      "                                                                                                  \n",
      " z_log_var (Dense)              (None, 64)           8256        ['select_z_var[0][0]']           \n",
      "                                                                                                  \n",
      " Sampling (Sampling)            (None, 64)           0           ['z_mean[0][0]',                 \n",
      "                                                                  'z_log_var[0][0]']              \n",
      "                                                                                                  \n",
      "==================================================================================================\n",
      "Total params: 166,272\n",
      "Trainable params: 165,248\n",
      "Non-trainable params: 1,024\n",
      "__________________________________________________________________________________________________\n"
     ]
    }
   ],
   "source": [
    "latent_dim = 64\n",
    "encoder_inputs = Input(shape=(31), name=\"input_layer\")\n",
    "\n",
    "n_x1 = 512\n",
    "x = Dense(n_x1, activation=\"relu\", name=\"h1\")(encoder_inputs)\n",
    "x = BatchNormalization(name=\"batch1\")(x)\n",
    "n_x2 = 256\n",
    "x = Dense(n_x2, activation=\"relu\", name=\"h2\")(x)\n",
    "\n",
    "# Split x3 into two halves\n",
    "half_size = n_x2 // 2\n",
    "x1_first_half = Lambda(lambda x: x[:, :half_size], name=\"select_z_mean\")(x)\n",
    "x1_second_half = Lambda(lambda x: x[:, half_size:], name=\"select_z_var\")(x)\n",
    "\n",
    "z_mean = Dense(latent_dim, name=\"z_mean\")(x1_first_half)\n",
    "z_log_var = Dense(latent_dim, name=\"z_log_var\")(x1_second_half)\n",
    "z = Sampling(name=\"Sampling\")([z_mean, z_log_var])\n",
    "\n",
    "encoder = keras.Model(encoder_inputs, [z_mean, z_log_var, z], name=\"encoder\")\n",
    "encoder.summary()"
   ]
  },
  {
   "cell_type": "code",
   "execution_count": 57,
   "metadata": {},
   "outputs": [
    {
     "data": {
      "image/png": "[encoded data removed]",
      "text/plain": [
       "<IPython.core.display.Image object>"
      ]
     },
     "execution_count": 57,
     "metadata": {},
     "output_type": "execute_result"
    }
   ],
   "source": [
    "keras.utils.plot_model(encoder, show_shapes=True)"
   ]
  },
  {
   "cell_type": "code",
   "execution_count": 58,
   "metadata": {},
   "outputs": [
    {
     "name": "stdout",
     "output_type": "stream",
     "text": [
      "Model: \"decoder\"\n",
      "__________________________________________________________________________________________________\n",
      " Layer (type)                   Output Shape         Param #     Connected to                     \n",
      "==================================================================================================\n",
      " input_4 (InputLayer)           [(None, 64)]         0           []                               \n",
      "                                                                                                  \n",
      " h4 (Dense)                     (None, 64)           4160        ['input_4[0][0]']                \n",
      "                                                                                                  \n",
      " batch1 (BatchNormalization)    (None, 64)           256         ['h4[0][0]']                     \n",
      "                                                                                                  \n",
      " cont_decoder_output (Dense)    (None, 30)           1950        ['batch1[0][0]']                 \n",
      "                                                                                                  \n",
      " classification_output (Dense)  (None, 1)            65          ['batch1[0][0]']                 \n",
      "                                                                                                  \n",
      "==================================================================================================\n",
      "Total params: 6,431\n",
      "Trainable params: 6,303\n",
      "Non-trainable params: 128\n",
      "__________________________________________________________________________________________________\n"
     ]
    }
   ],
   "source": [
    "# Decoder\n",
    "latent_inputs = keras.Input(shape=(latent_dim,))\n",
    "n_x3 = 64\n",
    "x = Dense(n_x3, activation=\"relu\", name=\"h4\")(latent_inputs)\n",
    "x = BatchNormalization(name=\"batch1\")(x)\n",
    "cont_decoder_outputs = Dense(30, activation = 'linear', name=\"cont_decoder_output\")(x)\n",
    "class_decoder_output = Dense(1, activation=\"sigmoid\", name=\"classification_output\")(x)\n",
    "decoder = keras.Model(latent_inputs, [cont_decoder_outputs, class_decoder_output], name=\"decoder\")\n",
    "decoder.summary()"
   ]
  },
  {
   "cell_type": "code",
   "execution_count": 59,
   "metadata": {},
   "outputs": [],
   "source": [
    "class VAE(keras.Model):\n",
    "    def __init__(self, encoder, decoder, **kwargs):\n",
    "        super().__init__(**kwargs)\n",
    "        self.encoder = encoder\n",
    "        self.decoder = decoder\n",
    "        self.total_loss_tracker = keras.metrics.Mean(name=\"total_loss\")\n",
    "        self.reconstruction_loss_tracker = keras.metrics.Mean(\n",
    "            name=\"reconstruction_loss\"\n",
    "        )\n",
    "        self.kl_loss_tracker = keras.metrics.Mean(name=\"kl_loss\")\n",
    "        self.reconstruction_loss_class_tracker = keras.metrics.Mean(\n",
    "            name=\"reconstruction_loss_class\"\n",
    "        )\n",
    "        self.mean_abs_diff_cont_tracker = keras.metrics.Mean(name='mean_abs_diff_cont')\n",
    "        self.mean_abs_diff_class_tracker = keras.metrics.Mean(name='mean_abs_diff_class')\n",
    "        self.mean_binary_tracker = keras.metrics.Mean(name=\"mean_binary_value\")\n",
    "        self.kl_div_tracker = keras.metrics.Mean(name='kl_divergence')\n",
    "\n",
    "    def get_config(self):\n",
    "        config = super(VAE, self).get_config()\n",
    "        config.update(\n",
    "            {\n",
    "                \"encoder\": self.encoder,\n",
    "                \"decoder\": self.decoder,\n",
    "            }\n",
    "        )\n",
    "        return config\n",
    "\n",
    "    @property\n",
    "    def metrics(self):\n",
    "        return [\n",
    "            self.total_loss_tracker,\n",
    "            self.reconstruction_loss_tracker,\n",
    "            self.kl_loss_tracker,\n",
    "            self.reconstruction_loss_class_tracker,\n",
    "\n",
    "        ]\n",
    "\n",
    "    def call(self, inputs):\n",
    "        return self.decoder(self.encoder(inputs)[2])\n",
    "\n",
    "    def train_step(self, data):\n",
    "        with tf.GradientTape() as tape:\n",
    "            z_mean, z_log_var, z = self.encoder(data)\n",
    "\n",
    "            reconstruction_cont, reconstruction_class = self.decoder(z)\n",
    "            # latent_vectors = np.random.normal(scale=1, size=(32, latent_dim))\n",
    "            # reconstruction_cont, reconstruction_class = self.decoder(latent_vectors)\n",
    "\n",
    "            data_cont = data[:, :30]  \n",
    "            data_class = data[:, 30:]  # Assuming the last column is for classification\n",
    "\n",
    "            # Reconstruction loss for continuous outputs\n",
    "            reconstruction_loss_cont = keras.losses.mean_squared_error(\n",
    "                data_cont, reconstruction_cont\n",
    "            )\n",
    "\n",
    "            # Reconstruction loss for classification output\n",
    "            reconstruction_loss_class = keras.losses.binary_crossentropy(\n",
    "                data_class, reconstruction_class\n",
    "            )\n",
    "\n",
    "            kl_loss = -0.5 * (1 + z_log_var - tf.square(z_mean) - tf.exp(z_log_var))\n",
    "            kl_loss = tf.reduce_mean(kl_loss, axis=1)\n",
    "\n",
    "            # Compute the KL Div between original data and reconstructed\n",
    "            kl_div = tf.keras.losses.KLDivergence()(data_cont, reconstruction_cont)\n",
    "\n",
    "            # Combine losses\n",
    "            total_loss = (\n",
    "                reconstruction_loss_cont + 10 * reconstruction_loss_class + kl_loss\n",
    "            )\n",
    "\n",
    "        grads = tape.gradient(total_loss, self.trainable_weights)\n",
    "        self.optimizer.apply_gradients(zip(grads, self.trainable_weights))\n",
    "        self.total_loss_tracker.update_state(total_loss)\n",
    "        self.reconstruction_loss_tracker.update_state(reconstruction_loss_cont)\n",
    "        self.kl_loss_tracker.update_state(kl_loss)\n",
    "        self.reconstruction_loss_class_tracker.update_state(reconstruction_loss_class)\n",
    "        self.kl_div_tracker.update_state(kl_div)\n",
    "\n",
    "        return {\n",
    "            \"loss\": self.total_loss_tracker.result(),\n",
    "            \"reconstruction_loss_cont\": self.reconstruction_loss_tracker.result(),\n",
    "            \"reconstruction_loss_class\": self.reconstruction_loss_class_tracker.result(),\n",
    "            \"kl_loss\": self.kl_loss_tracker.result(),\n",
    "            \"sparse_categorical_crossentropy\": self.reconstruction_loss_class_tracker.result(),\n",
    "            \"kl_div\": self.kl_div_tracker.result(),\n",
    "        }\n",
    "\n",
    "    def test_step(self, data):\n",
    "        \"\"\"Step run during validation.\"\"\"\n",
    "        if isinstance(data, tuple):\n",
    "            data = data[0]  # Unpack the tuple and take the input data\n",
    "\n",
    "        data_cont = data[:, :30]  # Assuming the first 4 columns are for continuous variables\n",
    "        data_class = data[:, 30:]  # Assuming the last column is for classification\n",
    "\n",
    "        z_mean, z_log_var, z = self.encoder(data)\n",
    "        # len_data = data.shape[0]\n",
    "\n",
    "        latent_vectors = np.random.normal(scale=1, size=(32, latent_dim))\n",
    "        reconstruction_cont, reconstruction_class = self.decoder(latent_vectors)\n",
    "\n",
    "        reconstruction_loss_cont = keras.losses.mean_squared_error(\n",
    "            data_cont, reconstruction_cont\n",
    "        )\n",
    "\n",
    "        # Reconstruction loss for classification output\n",
    "        reconstruction_loss_class =  keras.losses.binary_crossentropy(\n",
    "            data_class, reconstruction_class\n",
    "        )\n",
    "\n",
    "        kl_loss = -0.5 * (\n",
    "            1 + z_log_var - tf.square(z_mean) - tf.exp(z_log_var)\n",
    "        )\n",
    "        kl_loss = tf.reduce_mean(kl_loss, axis=1)\n",
    "\n",
    "        # Combine losses\n",
    "        total_loss = (\n",
    "            reconstruction_loss_cont + 10 * reconstruction_loss_class + kl_loss\n",
    "        )\n",
    "\n",
    "        # Compute mean absolute differences and mean of binary data\n",
    "        mean_abs_diff_cont = tf.reduce_mean(tf.abs(data_cont - reconstruction_cont))\n",
    "        mean_abs_diff_class = tf.reduce_mean(tf.abs(data_class - reconstruction_class))\n",
    "        mean_binary_value = tf.reduce_mean(tf.cast(reconstruction_class >= 0.5, tf.float32))\n",
    "\n",
    "        # Compute the KL Div between original data and reconstructed\n",
    "        kl_div = tf.keras.losses.KLDivergence()(data_cont, reconstruction_cont)\n",
    "\n",
    "        # Update the loss tracker\n",
    "        self.total_loss_tracker.update_state(total_loss)\n",
    "\n",
    "        # Update other metrics\n",
    "        self.reconstruction_loss_tracker.update_state(reconstruction_loss_cont)\n",
    "        self.kl_loss_tracker.update_state(kl_loss)\n",
    "        self.reconstruction_loss_class_tracker.update_state(reconstruction_loss_class)\n",
    "        self.mean_abs_diff_cont_tracker.update_state(mean_abs_diff_cont)\n",
    "        self.mean_abs_diff_class_tracker.update_state(mean_abs_diff_class)\n",
    "        self.mean_binary_tracker.update_state(mean_binary_value)\n",
    "        self.kl_div_tracker.update_state(kl_div)\n",
    "\n",
    "        # Return a dict mapping metric names to current value\n",
    "        return {\n",
    "            \"loss\": self.total_loss_tracker.result(),\n",
    "            \"reconstruction_loss_cont\": self.reconstruction_loss_tracker.result(),\n",
    "            \"reconstruction_loss_class\": self.reconstruction_loss_class_tracker.result(),\n",
    "            \"kl_loss\": self.kl_loss_tracker.result(),\n",
    "            \"mean_abs_diff_cont\": self.mean_abs_diff_cont_tracker.result(),\n",
    "            \"mean_abs_diff_class\": self.mean_abs_diff_class_tracker.result(),\n",
    "            \"mean_binary_value\": self.mean_binary_tracker.result(),\n",
    "            \"kl_div\": self.kl_div_tracker.result(),\n",
    "        }"
   ]
  },
  {
   "cell_type": "code",
   "execution_count": 60,
   "metadata": {},
   "outputs": [
    {
     "name": "stderr",
     "output_type": "stream",
     "text": [
      "c:\\Users\\Max_G\\anaconda3\\envs\\var_auto\\lib\\site-packages\\keras\\optimizers\\optimizer_v2\\adam.py:114: UserWarning: The `lr` argument is deprecated, use `learning_rate` instead.\n",
      "  super().__init__(name, **kwargs)\n"
     ]
    }
   ],
   "source": [
    "from keras.optimizers import Adam\n",
    "\n",
    "vae = VAE(encoder, decoder)\n",
    "\n",
    "\n",
    "# Define your learning rate\n",
    "learning_rate = 0.0001 \n",
    "\n",
    "# Create Adam optimizer with the specified learning rate\n",
    "adam_optimizer = Adam(lr=learning_rate)\n",
    "\n",
    "# Compile your VAE model with the Adam optimizer\n",
    "vae.compile(optimizer=adam_optimizer)"
   ]
  },
  {
   "cell_type": "code",
   "execution_count": 61,
   "metadata": {},
   "outputs": [
    {
     "name": "stdout",
     "output_type": "stream",
     "text": [
      "Epoch 1/20\n",
      "6231/6231 [==============================] - 21s 3ms/step - loss: 1.6703 - reconstruction_loss_cont: 0.9754 - reconstruction_loss_class: 0.0134 - kl_loss: 0.2768 - sparse_categorical_crossentropy: 0.0434 - kl_div: 48.9173 - val_loss: 2.9536 - val_reconstruction_loss_cont: 1.3130 - val_reconstruction_loss_class: 0.1358 - val_kl_loss: 0.2830 - val_mean_abs_diff_cont: 0.8247 - val_mean_abs_diff_class: 0.1059 - val_mean_binary_value: 0.0625 - val_kl_div: 41.4559\n",
      "Epoch 2/20\n",
      "6231/6231 [==============================] - 19s 3ms/step - loss: 0.7257 - reconstruction_loss_cont: 0.4066 - reconstruction_loss_class: 0.0019 - kl_loss: 0.2877 - sparse_categorical_crossentropy: 0.0026 - kl_div: 36.2891 - val_loss: 2.0633 - val_reconstruction_loss_cont: 1.3580 - val_reconstruction_loss_class: 0.0434 - val_kl_loss: 0.2712 - val_mean_abs_diff_cont: 0.8331 - val_mean_abs_diff_class: 0.0686 - val_mean_binary_value: 0.0312 - val_kl_div: 34.8041\n",
      "Epoch 3/20\n",
      "6231/6231 [==============================] - 18s 3ms/step - loss: 0.6119 - reconstruction_loss_cont: 0.3328 - reconstruction_loss_class: 8.4611e-04 - kl_loss: 0.2667 - sparse_categorical_crossentropy: 9.6992e-04 - kl_div: 32.3468 - val_loss: 1.8700 - val_reconstruction_loss_cont: 1.3790 - val_reconstruction_loss_class: 0.0237 - val_kl_loss: 0.2538 - val_mean_abs_diff_cont: 0.8379 - val_mean_abs_diff_class: 0.0490 - val_mean_binary_value: 0.0208 - val_kl_div: 31.8562\n",
      "Epoch 4/20\n",
      "6231/6231 [==============================] - 21s 3ms/step - loss: 0.5607 - reconstruction_loss_cont: 0.3009 - reconstruction_loss_class: 3.5694e-04 - kl_loss: 0.2521 - sparse_categorical_crossentropy: 2.8369e-04 - kl_div: 30.2562 - val_loss: 1.8576 - val_reconstruction_loss_cont: 1.3967 - val_reconstruction_loss_class: 0.0217 - val_kl_loss: 0.2439 - val_mean_abs_diff_cont: 0.8413 - val_mean_abs_diff_class: 0.0381 - val_mean_binary_value: 0.0156 - val_kl_div: 30.0634\n",
      "Epoch 5/20\n",
      "6231/6231 [==============================] - 21s 3ms/step - loss: 0.5232 - reconstruction_loss_cont: 0.2732 - reconstruction_loss_class: 1.4087e-04 - kl_loss: 0.2443 - sparse_categorical_crossentropy: 1.6444e-04 - kl_div: 28.8299 - val_loss: 1.8845 - val_reconstruction_loss_cont: 1.4257 - val_reconstruction_loss_class: 0.0223 - val_kl_loss: 0.2357 - val_mean_abs_diff_cont: 0.8447 - val_mean_abs_diff_class: 0.0311 - val_mean_binary_value: 0.0125 - val_kl_div: 28.6758\n",
      "Epoch 6/20\n",
      "6231/6231 [==============================] - 22s 3ms/step - loss: 0.4865 - reconstruction_loss_cont: 0.2436 - reconstruction_loss_class: 3.0561e-04 - kl_loss: 0.2397 - sparse_categorical_crossentropy: 3.2074e-04 - kl_div: 27.6403 - val_loss: 1.9173 - val_reconstruction_loss_cont: 1.4576 - val_reconstruction_loss_class: 0.0228 - val_kl_loss: 0.2321 - val_mean_abs_diff_cont: 0.8487 - val_mean_abs_diff_class: 0.0263 - val_mean_binary_value: 0.0104 - val_kl_div: 27.4904\n",
      "Epoch 7/20\n",
      "6231/6231 [==============================] - 22s 4ms/step - loss: 0.4636 - reconstruction_loss_cont: 0.2251 - reconstruction_loss_class: 2.1775e-04 - kl_loss: 0.2352 - sparse_categorical_crossentropy: 1.8692e-04 - kl_div: 26.6093 - val_loss: 1.9542 - val_reconstruction_loss_cont: 1.4855 - val_reconstruction_loss_class: 0.0237 - val_kl_loss: 0.2316 - val_mean_abs_diff_cont: 0.8526 - val_mean_abs_diff_class: 0.0228 - val_mean_binary_value: 0.0089 - val_kl_div: 26.5005\n",
      "Epoch 8/20\n",
      "6231/6231 [==============================] - 22s 3ms/step - loss: 0.4457 - reconstruction_loss_cont: 0.2100 - reconstruction_loss_class: 1.7262e-04 - kl_loss: 0.2328 - sparse_categorical_crossentropy: 1.4853e-04 - kl_div: 25.7367 - val_loss: 1.9748 - val_reconstruction_loss_cont: 1.5005 - val_reconstruction_loss_class: 0.0245 - val_kl_loss: 0.2290 - val_mean_abs_diff_cont: 0.8559 - val_mean_abs_diff_class: 0.0201 - val_mean_binary_value: 0.0078 - val_kl_div: 25.6609\n",
      "Epoch 9/20\n",
      "6231/6231 [==============================] - 20s 3ms/step - loss: 0.4302 - reconstruction_loss_cont: 0.1977 - reconstruction_loss_class: 1.8631e-04 - kl_loss: 0.2315 - sparse_categorical_crossentropy: 6.5589e-05 - kl_div: 24.9918 - val_loss: 1.9778 - val_reconstruction_loss_cont: 1.4983 - val_reconstruction_loss_class: 0.0254 - val_kl_loss: 0.2260 - val_mean_abs_diff_cont: 0.8585 - val_mean_abs_diff_class: 0.0181 - val_mean_binary_value: 0.0069 - val_kl_div: 24.9402\n"
     ]
    }
   ],
   "source": [
    "early_stopping_callback = EarlyStopping(\n",
    "    monitor='val_loss',  # Monitoring validation loss\n",
    "    patience=5,  # Number of epochs with no improvement after which training will be stopped\n",
    "    restore_best_weights=True  # Restore weights to the best model observed during training\n",
    ")\n",
    "\n",
    "# # Define the directory to save the model\n",
    "# model_dir = \"saved_model/\"\n",
    "\n",
    "# # Define a TensorBoard callback for training logs\n",
    "# tensorboard_callback = TensorBoard(log_dir=\"logs/vae_optimized_263\")\n",
    "\n",
    "# # Define a ModelCheckpoint callback to save the model\n",
    "# checkpoint_callback = ModelCheckpoint(\n",
    "#     filepath=model_dir, save_best_only=True, monitor=\"val_loss\", mode=\"min\"\n",
    "# )\n",
    "#tensorboard_callback\n",
    "call_back_list = [early_stopping_callback]\n",
    "\n",
    "hist = vae.fit(\n",
    "    train_data_array,\n",
    "    epochs=20,\n",
    "    batch_size=32,\n",
    "    validation_data=(val_data_array, None), \n",
    "    callbacks=call_back_list,\n",
    ")"
   ]
  },
  {
   "cell_type": "markdown",
   "metadata": {},
   "source": [
    "# Synth Data Creation"
   ]
  },
  {
   "cell_type": "code",
   "execution_count": 62,
   "metadata": {},
   "outputs": [
    {
     "name": "stdout",
     "output_type": "stream",
     "text": [
      "1781/1781 [==============================] - 2s 1ms/step\n"
     ]
    }
   ],
   "source": [
    "# synth Data from Data random sample\n",
    "latent_vectors = np.random.normal(scale=1, size=(len(test_data_array), latent_dim))\n",
    "generated_data_cont_from_sample, generated_data_class_from_sample = vae.decoder.predict(latent_vectors)"
   ]
  },
  {
   "cell_type": "markdown",
   "metadata": {},
   "source": [
    "Saving the synth data from sample"
   ]
  },
  {
   "cell_type": "code",
   "execution_count": 63,
   "metadata": {},
   "outputs": [
    {
     "name": "stdout",
     "output_type": "stream",
     "text": [
      "[0]\n"
     ]
    }
   ],
   "source": [
    "binary_predictions_from_sample = (generated_data_class_from_sample >= 0.5).astype(int)\n",
    "print(sum(binary_predictions_from_sample))\n",
    "\n",
    "# Create DataFrame with synthetic data\n",
    "synthetic_data_from_sample = pd.DataFrame(\n",
    "    generated_data_cont_from_sample, columns=train_data.columns[:-1]\n",
    ")\n",
    "# Add binary_predictions as an additional column\n",
    "synthetic_data_from_sample[\"Class\"] = binary_predictions_from_sample\n",
    "synthetic_data_from_sample.to_csv(\"../data/interim/synthdata_from_sample_small_extreme_high_class_10_loss_low_learning.csv\", index=False)"
   ]
  },
  {
   "cell_type": "code",
   "execution_count": 64,
   "metadata": {},
   "outputs": [],
   "source": [
    "# call_for_saving = vae(train_data_array[:1])\n",
    "# vae.save(\"../models/VAE/optimized_for_sample\", save_format=\"tf\")"
   ]
  },
  {
   "cell_type": "code",
   "execution_count": 65,
   "metadata": {},
   "outputs": [
    {
     "data": {
      "image/png": "[encoded data removed]",
      "text/plain": [
       "<Figure size 640x480 with 1 Axes>"
      ]
     },
     "metadata": {},
     "output_type": "display_data"
    }
   ],
   "source": [
    "# Assuming iris_array is the NumPy array you obtained from the Pandas DataFrame\n",
    "colum_num =28\n",
    "original_column = train_data_array[:, colum_num]\n",
    "\n",
    "synth_column = generated_data_cont_from_sample[:, colum_num]\n",
    "\n",
    "# Calculate the percentage for original_column\n",
    "total_points_original = len(original_column)\n",
    "percentage_original = (original_column / total_points_original) * 100\n",
    "\n",
    "# Calculate the percentage for synth_column\n",
    "total_points_synth = len(synth_column)\n",
    "percentage_synth = (synth_column / total_points_synth) * 100\n",
    "\n",
    "# Plot histograms\n",
    "plt.hist(\n",
    "    original_column,\n",
    "    bins=25,\n",
    "    color=\"g\",\n",
    "    alpha=0.6,\n",
    "    weights=np.ones_like(original_column) / total_points_original * 100,\n",
    "    label=\"Original Data\",\n",
    ")\n",
    "\n",
    "plt.hist(\n",
    "    synth_column,\n",
    "    bins=25,\n",
    "    color=\"b\",\n",
    "    alpha=0.6,\n",
    "    weights=np.ones_like(synth_column) / total_points_synth * 100,\n",
    "    label=\"Synthetic Data\",\n",
    ")\n",
    "\n",
    "plt.title(\"Histogram of Original and Synthetic Data\")\n",
    "plt.xlabel(\"Values\")\n",
    "plt.ylabel(\"Percentage\")\n",
    "plt.legend()\n",
    "\n",
    "plt.show()"
   ]
  },
  {
   "cell_type": "code",
   "execution_count": 66,
   "metadata": {},
   "outputs": [
    {
     "ename": "NameError",
     "evalue": "name 'df_credit' is not defined",
     "output_type": "error",
     "traceback": [
      "\u001b[1;31m---------------------------------------------------------------------------\u001b[0m",
      "\u001b[1;31mNameError\u001b[0m                                 Traceback (most recent call last)",
      "Cell \u001b[1;32mIn[66], line 2\u001b[0m\n\u001b[0;32m      1\u001b[0m \u001b[38;5;66;03m# For each feature, create a histogram for the real and synthetic data\u001b[39;00m\n\u001b[1;32m----> 2\u001b[0m \u001b[38;5;28;01mfor\u001b[39;00m feature \u001b[38;5;129;01min\u001b[39;00m \u001b[43mdf_credit\u001b[49m\u001b[38;5;241m.\u001b[39mcolumns[:\u001b[38;5;241m-\u001b[39m\u001b[38;5;241m1\u001b[39m]:\n\u001b[0;32m      5\u001b[0m     plt\u001b[38;5;241m.\u001b[39mfigure(figsize\u001b[38;5;241m=\u001b[39m(\u001b[38;5;241m10\u001b[39m, \u001b[38;5;241m5\u001b[39m))\n\u001b[0;32m      7\u001b[0m     plt\u001b[38;5;241m.\u001b[39msubplot(\u001b[38;5;241m1\u001b[39m, \u001b[38;5;241m2\u001b[39m, \u001b[38;5;241m1\u001b[39m)\n",
      "\u001b[1;31mNameError\u001b[0m: name 'df_credit' is not defined"
     ]
    }
   ],
   "source": [
    "# For each feature, create a histogram for the real and synthetic data\n",
    "for feature in df_credit.columns[:-1]:\n",
    "    \n",
    "    \n",
    "    plt.figure(figsize=(10, 5))\n",
    "\n",
    "    plt.subplot(1, 2, 1)\n",
    "    plt.hist(real_data[feature], bins=20, alpha=0.5, color=\"g\", label=\"Real\")\n",
    "    plt.title(f\"Real Data: {feature}\")\n",
    "    plt.legend()\n",
    "\n",
    "    plt.subplot(1, 2, 2)\n",
    "    plt.hist(synthetic_data[feature], bins=20, alpha=0.5, color=\"b\", label=\"Synthetic\")\n",
    "    plt.title(f\"Synthetic Data: {feature}\")\n",
    "    plt.legend()\n",
    "\n",
    "    plt.show()\n",
    "\n",
    "# Print the summary statistics for the real and synthetic data\n",
    "print(\"Summary statistics for the real data:\")\n",
    "print(real_data.describe())\n",
    "print(\"\\nSummary statistics for the synthetic data:\")\n",
    "print(synthetic_data.describe())\n",
    "\n",
    "plt.show()"
   ]
  },
  {
   "cell_type": "code",
   "execution_count": null,
   "metadata": {},
   "outputs": [
    {
     "name": "stdout",
     "output_type": "stream",
     "text": [
      "Training Accuracy: 0.9998745987158909\n",
      "Testing Accuracy: 0.9996488764044944\n"
     ]
    }
   ],
   "source": [
    "import pandas as pd\n",
    "from sklearn.model_selection import train_test_split\n",
    "from sklearn.metrics import confusion_matrix\n",
    "from sklearn.ensemble import RandomForestClassifier\n",
    "from sklearn.metrics import accuracy_score\n",
    "\n",
    "\n",
    "\n",
    "\n",
    "# Assuming the target variable is in the last column\n",
    "X_train = train_data[:, :-1]  # Features for training\n",
    "y_train = train_data[:, -1]  # Target variable for training\n",
    "\n",
    "X_test = test_data[:, :-1]  # Features for testing\n",
    "y_test = test_data[:, -1]  # Target variable for testing\n",
    "\n",
    "\n",
    "# Step 3: Instantiate the model\n",
    "random_forest = RandomForestClassifier(n_estimators=100, max_depth=10, random_state=42)\n",
    "\n",
    "# Step 4: Train the model\n",
    "random_forest.fit(X_train, y_train)\n",
    "\n",
    "# Step 5: Evaluate the model\n",
    "train_accuracy = accuracy_score(y_train, random_forest.predict(X_train))\n",
    "test_accuracy = accuracy_score(y_test, random_forest.predict(X_test))\n",
    "\n",
    "print(\"Training Accuracy:\", train_accuracy)\n",
    "print(\"Testing Accuracy:\", test_accuracy)"
   ]
  },
  {
   "cell_type": "code",
   "execution_count": null,
   "metadata": {},
   "outputs": [
    {
     "name": "stdout",
     "output_type": "stream",
     "text": [
      "Accuracy: 0.9990344440153085\n",
      "Confusion Matrix:\n",
      "[[56849    44]\n",
      " [   11    58]]\n"
     ]
    }
   ],
   "source": [
    "from sklearn.metrics import accuracy_score, confusion_matrix\n",
    "\n",
    "# Get predictions from the random forest model\n",
    "predictions = random_forest.predict(generated_data_cont)\n",
    "\n",
    "# Compute accuracy score\n",
    "accuracy = accuracy_score(binary_predictions, predictions)\n",
    "print(\"Accuracy:\", accuracy)\n",
    "\n",
    "# Compute confusion matrix\n",
    "cm = confusion_matrix(\n",
    "    predictions, binary_predictions\n",
    ")\n",
    "\n",
    "print(\"Confusion Matrix:\")\n",
    "print(cm)"
   ]
  }
 ],
 "metadata": {
  "kernelspec": {
   "display_name": "var_auto",
   "language": "python",
   "name": "python3"
  },
  "language_info": {
   "codemirror_mode": {
    "name": "ipython",
    "version": 3
   },
   "file_extension": ".py",
   "mimetype": "text/x-python",
   "name": "python",
   "nbconvert_exporter": "python",
   "pygments_lexer": "ipython3",
   "version": "3.10.13"
  }
 },
 "nbformat": 4,
 "nbformat_minor": 2
}
