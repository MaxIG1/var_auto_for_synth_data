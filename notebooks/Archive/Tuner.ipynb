{
 "cells": [
  {
   "cell_type": "code",
   "execution_count": 1,
   "metadata": {},
   "outputs": [],
   "source": [
    "import keras_tuner\n",
    "import keras\n",
    "from sklearn.datasets import make_classification\n",
    "from sklearn.model_selection import train_test_split\n",
    "import pandas as pd\n",
    "import numpy as np\n",
    "from tensorflow.keras.callbacks import TensorBoard"
   ]
  },
  {
   "cell_type": "code",
   "execution_count": 2,
   "metadata": {},
   "outputs": [],
   "source": [
    "# Define the desired number of samples for each class\n",
    "class_samples = [20300, 30200]  # Adjust these numbers as needed\n",
    "\n",
    "# Calculate weights based on the desired number of samples\n",
    "class_weights = [num_samples / sum(class_samples) for num_samples in class_samples]\n",
    "\n",
    "\n",
    "# Generate a synthetic dataset with different numbers of samples for each class\n",
    "X, y = make_classification(\n",
    "    n_samples=sum(class_samples),\n",
    "    n_features=4,\n",
    "    n_informative=4,\n",
    "    n_redundant=0,\n",
    "    n_classes=2,\n",
    "    weights=class_weights,\n",
    "    random_state=42,\n",
    ")\n",
    "\n",
    "\n",
    "# Create a Pandas DataFrame with the generated data\n",
    "columns = [\"Feature_1\", \"Feature_2\", \"Feature_3\", \"Feature_4\"]\n",
    "synthetic_df = pd.DataFrame(data=X, columns=columns)\n",
    "\n",
    "for column in synthetic_df:\n",
    "    std = np.std(synthetic_df[column])\n",
    "    mean = np.mean(synthetic_df[column])\n",
    "    synthetic_df[column] = synthetic_df[column] - mean\n",
    "    synthetic_df[column] = synthetic_df[column] / std\n",
    "\n",
    "\n",
    "synthetic_df[\"target\"] = y\n",
    "\n",
    "# Display the first few rows of the synthetic dataset\n",
    "synthetic_array = synthetic_df.values\n",
    "(train_data, test_data, train_target, test_target) = train_test_split(\n",
    "    synthetic_array, y, test_size=0.2, random_state=42\n",
    ")"
   ]
  },
  {
   "cell_type": "code",
   "execution_count": 3,
   "metadata": {},
   "outputs": [],
   "source": [
    "def build_model(hp):\n",
    "    model = keras.Sequential()\n",
    "    model.add(keras.layers.Dense(hp.Choice(\"units\", [8, 16, 32]), activation=\"relu\"))\n",
    "    activation_choice = hp.Choice(\"activation\", [\"sigmoid\", \"relu\"])\n",
    "    model.add(keras.layers.Dense(1, activation=activation_choice))\n",
    "    model.compile(loss=\"mse\")\n",
    "    return model"
   ]
  },
  {
   "cell_type": "code",
   "execution_count": 4,
   "metadata": {},
   "outputs": [],
   "source": [
    "tuner = keras_tuner.RandomSearch(build_model, objective=\"val_loss\", max_trials=5)\n",
    "# Define TensorBoard callback\n",
    "tensorboard_callback = TensorBoard(log_dir=\"./logs\")\n",
    "tuner.search(\n",
    "    train_data,\n",
    "    train_target,\n",
    "    epochs=5,\n",
    "    validation_data=(test_data, test_target),\n",
    "    callbacks=[tensorboard_callback],\n",
    ")\n",
    "best_model = tuner.get_best_models()[0]"
   ]
  },
  {
   "cell_type": "code",
   "execution_count": 6,
   "metadata": {},
   "outputs": [],
   "source": [
    "best_model = tuner.get_best_models()[0]"
   ]
  }
 ],
 "metadata": {
  "kernelspec": {
   "display_name": "var_auto",
   "language": "python",
   "name": "python3"
  },
  "language_info": {
   "codemirror_mode": {
    "name": "ipython",
    "version": 3
   },
   "file_extension": ".py",
   "mimetype": "text/x-python",
   "name": "python",
   "nbconvert_exporter": "python",
   "pygments_lexer": "ipython3",
   "version": "3.10.13"
  }
 },
 "nbformat": 4,
 "nbformat_minor": 2
}
